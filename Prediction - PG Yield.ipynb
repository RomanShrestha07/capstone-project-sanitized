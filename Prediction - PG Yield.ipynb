{
 "cells": [
  {
   "cell_type": "markdown",
   "id": "d9cb404ee3b17bf2",
   "metadata": {},
   "source": [
    "# A Machine Learning Approach to Glycerin to Glycol Production Analysis\n",
    "========================================================================================================"
   ]
  },
  {
   "metadata": {},
   "cell_type": "markdown",
   "source": [
    "## PROPYLENE GLYCOL (PG) YIELD OPTIMIZATION\n",
    "\n",
    "In this section, we will develop models to understand the relationships between key parameters and optimize to enhance the conversion process and maximize output of Propylene Glycol (PG). By identifying the most influential factors and their interactions, we aim to provide actionable insights for process improvement and efficiency enhancement. The ultimate goal is to leverage predictive modeling to achieve higher yields while maintaining cost-effectiveness.\n"
   ],
   "id": "41c318fe9ef34a39"
  },
  {
   "cell_type": "markdown",
   "id": "dafc8acdb670f05a",
   "metadata": {},
   "source": [
    "## READING THE DATA\n",
    "\n",
    "### Importing the libraries\n",
    "\n",
    "Let us start by importing the necessary libraries."
   ]
  },
  {
   "cell_type": "code",
   "id": "initial_id",
   "metadata": {
    "collapsed": true,
    "jupyter": {
     "outputs_hidden": true
    },
    "ExecuteTime": {
     "end_time": "2024-11-22T01:55:14.506483Z",
     "start_time": "2024-11-22T01:55:14.499607Z"
    }
   },
   "source": [
    "import warnings\n",
    "\n",
    "import matplotlib.pyplot as plt\n",
    "import pandas as pd\n",
    "from pygad import GA\n",
    "\n",
    "from sklearn.ensemble import RandomForestRegressor, StackingRegressor\n",
    "from sklearn.linear_model import LinearRegression, Ridge, Lasso, SGDRegressor, BayesianRidge\n",
    "from sklearn.metrics import mean_squared_error, r2_score, mean_absolute_error, mean_absolute_percentage_error\n",
    "from sklearn.model_selection import RepeatedKFold, GridSearchCV\n",
    "from sklearn.model_selection import train_test_split\n",
    "from sklearn.neighbors import KNeighborsRegressor\n",
    "from sklearn.neural_network import MLPRegressor\n",
    "from sklearn.tree import DecisionTreeRegressor\n",
    "from xgboost import XGBRegressor\n",
    "\n",
    "warnings.filterwarnings('ignore')"
   ],
   "outputs": [],
   "execution_count": 79
  },
  {
   "cell_type": "markdown",
   "id": "916e803273b57e3e",
   "metadata": {},
   "source": [
    "### Loading the preprocessed data\n",
    "\n",
    "We will load the preprocessed data from the 'GeneralAnalysis' notebook."
   ]
  },
  {
   "cell_type": "code",
   "id": "eb386aae80587df7",
   "metadata": {
    "ExecuteTime": {
     "end_time": "2024-11-22T01:55:14.525310Z",
     "start_time": "2024-11-22T01:55:14.506483Z"
    }
   },
   "source": [
    "hydrogen_df = pd.read_pickle(\"data/hydrogen_df.pkl\")\n",
    "numerical_df = pd.read_pickle(\"data/numerical_df.pkl\")\n",
    "no_calc_df = pd.read_pickle(\"data/no_calc_df.pkl\")"
   ],
   "outputs": [],
   "execution_count": 80
  },
  {
   "cell_type": "code",
   "id": "485821171b006804",
   "metadata": {
    "ExecuteTime": {
     "end_time": "2024-11-22T01:55:14.632576Z",
     "start_time": "2024-11-22T01:55:14.589728Z"
    }
   },
   "source": [
    "display(hydrogen_df.head())\n",
    "display(numerical_df.head())\n",
    "display(no_calc_df.head())"
   ],
   "outputs": [
    {
     "data": {
      "text/plain": [
       "0 Glycerine to Glycol Sample ID         Sample time  Liquid Feed \\n(L/h)  \\\n",
       "1      20231015-C3-G1-RX203-001 2023-10-15 15:00:00                  4.0   \n",
       "3      20231015-C3-G1-RX203-003 2023-10-15 17:00:00                  4.0   \n",
       "5      20231015-C3-G1-RX203-005 2023-10-15 22:00:00                  4.0   \n",
       "6      20231015-C3-G1-RX203-006 2023-10-15 23:00:00                  4.0   \n",
       "7      20231015-C3-G1-RX203-007 2023-10-15 00:00:00                  4.0   \n",
       "\n",
       "0  Pure H2 Gas Flow Setpoint on PLC\\n(g/h)  Recycled H2 Gas Flow (g/h)  \\\n",
       "1                                    250.0                       150.0   \n",
       "3                                    250.0                       150.0   \n",
       "5                                    250.0                         0.0   \n",
       "6                                    250.0                         0.0   \n",
       "7                                    250.0                         0.0   \n",
       "\n",
       "0  Total H2 Gas Flow (g/h)  RX-203 Pressure (psig)  T2 (Top)\\n(°C)  T3 \\n(°C)  \\\n",
       "1                      400                   631.0           216.0      219.0   \n",
       "3                      400                   633.0           218.0      221.0   \n",
       "5                      250                   606.0           210.0      213.0   \n",
       "6                      250                   613.0           213.0      215.0   \n",
       "7                      250                   606.0           213.0      216.0   \n",
       "\n",
       "0  T4\\n(°C)  ...  Glycerol Feed Area (HPLC)  \\\n",
       "1     221.0  ...                  7670.7621   \n",
       "3     225.0  ...                  7670.7621   \n",
       "5     214.0  ...                  7670.7621   \n",
       "6     216.0  ...                  7670.7621   \n",
       "7     217.0  ...                  7670.7621   \n",
       "\n",
       "0  Glycerol Feed Concentration (g/L)  Glycerol Remaining Concentration (g/L)  \\\n",
       "1                         581.443767                              378.229508   \n",
       "3                         581.443767                              376.341444   \n",
       "5                         581.443767                              169.054170   \n",
       "6                         581.443767                              173.375733   \n",
       "7                         581.443767                              138.497235   \n",
       "\n",
       "0  EG Concentration (g/L)  PG Concentration (g/L)  PG/EG Ratio  \\\n",
       "1               13.219690              208.391724    15.763738   \n",
       "3               16.838202              264.832496    15.728075   \n",
       "5               17.034776              323.029406    18.962938   \n",
       "6               19.375754              335.963875    17.339397   \n",
       "7               18.031212              303.250974    16.818114   \n",
       "\n",
       "0  Conversion (%)  EG Yield (%)  PG Yield (%)  Overall Glycol Yield (%)  \n",
       "1        0.349499      0.065053      1.025478                  1.090531  \n",
       "3        0.352747      0.082097      1.291221                  1.373318  \n",
       "5        0.709251      0.041307      0.783311                  0.824619  \n",
       "6        0.701819      0.047482      0.823304                  0.870785  \n",
       "7        0.761805      0.040707      0.684622                  0.725329  \n",
       "\n",
       "[5 rows x 28 columns]"
      ],
      "text/html": [
       "<div>\n",
       "<style scoped>\n",
       "    .dataframe tbody tr th:only-of-type {\n",
       "        vertical-align: middle;\n",
       "    }\n",
       "\n",
       "    .dataframe tbody tr th {\n",
       "        vertical-align: top;\n",
       "    }\n",
       "\n",
       "    .dataframe thead th {\n",
       "        text-align: right;\n",
       "    }\n",
       "</style>\n",
       "<table border=\"1\" class=\"dataframe\">\n",
       "  <thead>\n",
       "    <tr style=\"text-align: right;\">\n",
       "      <th></th>\n",
       "      <th>Glycerine to Glycol Sample ID</th>\n",
       "      <th>Sample time</th>\n",
       "      <th>Liquid Feed \\n(L/h)</th>\n",
       "      <th>Pure H2 Gas Flow Setpoint on PLC\\n(g/h)</th>\n",
       "      <th>Recycled H2 Gas Flow (g/h)</th>\n",
       "      <th>Total H2 Gas Flow (g/h)</th>\n",
       "      <th>RX-203 Pressure (psig)</th>\n",
       "      <th>T2 (Top)\\n(°C)</th>\n",
       "      <th>T3 \\n(°C)</th>\n",
       "      <th>T4\\n(°C)</th>\n",
       "      <th>...</th>\n",
       "      <th>Glycerol Feed Area (HPLC)</th>\n",
       "      <th>Glycerol Feed Concentration (g/L)</th>\n",
       "      <th>Glycerol Remaining Concentration (g/L)</th>\n",
       "      <th>EG Concentration (g/L)</th>\n",
       "      <th>PG Concentration (g/L)</th>\n",
       "      <th>PG/EG Ratio</th>\n",
       "      <th>Conversion (%)</th>\n",
       "      <th>EG Yield (%)</th>\n",
       "      <th>PG Yield (%)</th>\n",
       "      <th>Overall Glycol Yield (%)</th>\n",
       "    </tr>\n",
       "  </thead>\n",
       "  <tbody>\n",
       "    <tr>\n",
       "      <th>1</th>\n",
       "      <td>20231015-C3-G1-RX203-001</td>\n",
       "      <td>2023-10-15 15:00:00</td>\n",
       "      <td>4.0</td>\n",
       "      <td>250.0</td>\n",
       "      <td>150.0</td>\n",
       "      <td>400</td>\n",
       "      <td>631.0</td>\n",
       "      <td>216.0</td>\n",
       "      <td>219.0</td>\n",
       "      <td>221.0</td>\n",
       "      <td>...</td>\n",
       "      <td>7670.7621</td>\n",
       "      <td>581.443767</td>\n",
       "      <td>378.229508</td>\n",
       "      <td>13.219690</td>\n",
       "      <td>208.391724</td>\n",
       "      <td>15.763738</td>\n",
       "      <td>0.349499</td>\n",
       "      <td>0.065053</td>\n",
       "      <td>1.025478</td>\n",
       "      <td>1.090531</td>\n",
       "    </tr>\n",
       "    <tr>\n",
       "      <th>3</th>\n",
       "      <td>20231015-C3-G1-RX203-003</td>\n",
       "      <td>2023-10-15 17:00:00</td>\n",
       "      <td>4.0</td>\n",
       "      <td>250.0</td>\n",
       "      <td>150.0</td>\n",
       "      <td>400</td>\n",
       "      <td>633.0</td>\n",
       "      <td>218.0</td>\n",
       "      <td>221.0</td>\n",
       "      <td>225.0</td>\n",
       "      <td>...</td>\n",
       "      <td>7670.7621</td>\n",
       "      <td>581.443767</td>\n",
       "      <td>376.341444</td>\n",
       "      <td>16.838202</td>\n",
       "      <td>264.832496</td>\n",
       "      <td>15.728075</td>\n",
       "      <td>0.352747</td>\n",
       "      <td>0.082097</td>\n",
       "      <td>1.291221</td>\n",
       "      <td>1.373318</td>\n",
       "    </tr>\n",
       "    <tr>\n",
       "      <th>5</th>\n",
       "      <td>20231015-C3-G1-RX203-005</td>\n",
       "      <td>2023-10-15 22:00:00</td>\n",
       "      <td>4.0</td>\n",
       "      <td>250.0</td>\n",
       "      <td>0.0</td>\n",
       "      <td>250</td>\n",
       "      <td>606.0</td>\n",
       "      <td>210.0</td>\n",
       "      <td>213.0</td>\n",
       "      <td>214.0</td>\n",
       "      <td>...</td>\n",
       "      <td>7670.7621</td>\n",
       "      <td>581.443767</td>\n",
       "      <td>169.054170</td>\n",
       "      <td>17.034776</td>\n",
       "      <td>323.029406</td>\n",
       "      <td>18.962938</td>\n",
       "      <td>0.709251</td>\n",
       "      <td>0.041307</td>\n",
       "      <td>0.783311</td>\n",
       "      <td>0.824619</td>\n",
       "    </tr>\n",
       "    <tr>\n",
       "      <th>6</th>\n",
       "      <td>20231015-C3-G1-RX203-006</td>\n",
       "      <td>2023-10-15 23:00:00</td>\n",
       "      <td>4.0</td>\n",
       "      <td>250.0</td>\n",
       "      <td>0.0</td>\n",
       "      <td>250</td>\n",
       "      <td>613.0</td>\n",
       "      <td>213.0</td>\n",
       "      <td>215.0</td>\n",
       "      <td>216.0</td>\n",
       "      <td>...</td>\n",
       "      <td>7670.7621</td>\n",
       "      <td>581.443767</td>\n",
       "      <td>173.375733</td>\n",
       "      <td>19.375754</td>\n",
       "      <td>335.963875</td>\n",
       "      <td>17.339397</td>\n",
       "      <td>0.701819</td>\n",
       "      <td>0.047482</td>\n",
       "      <td>0.823304</td>\n",
       "      <td>0.870785</td>\n",
       "    </tr>\n",
       "    <tr>\n",
       "      <th>7</th>\n",
       "      <td>20231015-C3-G1-RX203-007</td>\n",
       "      <td>2023-10-15 00:00:00</td>\n",
       "      <td>4.0</td>\n",
       "      <td>250.0</td>\n",
       "      <td>0.0</td>\n",
       "      <td>250</td>\n",
       "      <td>606.0</td>\n",
       "      <td>213.0</td>\n",
       "      <td>216.0</td>\n",
       "      <td>217.0</td>\n",
       "      <td>...</td>\n",
       "      <td>7670.7621</td>\n",
       "      <td>581.443767</td>\n",
       "      <td>138.497235</td>\n",
       "      <td>18.031212</td>\n",
       "      <td>303.250974</td>\n",
       "      <td>16.818114</td>\n",
       "      <td>0.761805</td>\n",
       "      <td>0.040707</td>\n",
       "      <td>0.684622</td>\n",
       "      <td>0.725329</td>\n",
       "    </tr>\n",
       "  </tbody>\n",
       "</table>\n",
       "<p>5 rows × 28 columns</p>\n",
       "</div>"
      ]
     },
     "metadata": {},
     "output_type": "display_data"
    },
    {
     "data": {
      "text/plain": [
       "0  Liquid Feed \\n(L/h)  Pure H2 Gas Flow Setpoint on PLC\\n(g/h)  \\\n",
       "1                  4.0                                    250.0   \n",
       "3                  4.0                                    250.0   \n",
       "5                  4.0                                    250.0   \n",
       "6                  4.0                                    250.0   \n",
       "7                  4.0                                    250.0   \n",
       "\n",
       "0  Recycled H2 Gas Flow (g/h)  Total H2 Gas Flow (g/h)  \\\n",
       "1                       150.0                      400   \n",
       "3                       150.0                      400   \n",
       "5                         0.0                      250   \n",
       "6                         0.0                      250   \n",
       "7                         0.0                      250   \n",
       "\n",
       "0  RX-203 Pressure (psig)  T2 (Top)\\n(°C)  T3 \\n(°C)  T4\\n(°C)  \\\n",
       "1                   631.0           216.0      219.0     221.0   \n",
       "3                   633.0           218.0      221.0     225.0   \n",
       "5                   606.0           210.0      213.0     214.0   \n",
       "6                   613.0           213.0      215.0     216.0   \n",
       "7                   606.0           213.0      216.0     217.0   \n",
       "\n",
       "0  T5 (Bottom)\\n(°C)  After HEX (°C)  ...  Glycerol Feed Area (HPLC)  \\\n",
       "1              223.0           227.0  ...                  7670.7621   \n",
       "3              223.0           228.0  ...                  7670.7621   \n",
       "5              214.0           239.0  ...                  7670.7621   \n",
       "6              217.0           239.0  ...                  7670.7621   \n",
       "7              218.0           239.0  ...                  7670.7621   \n",
       "\n",
       "0  Glycerol Feed Concentration (g/L)  Glycerol Remaining Concentration (g/L)  \\\n",
       "1                         581.443767                              378.229508   \n",
       "3                         581.443767                              376.341444   \n",
       "5                         581.443767                              169.054170   \n",
       "6                         581.443767                              173.375733   \n",
       "7                         581.443767                              138.497235   \n",
       "\n",
       "0  EG Concentration (g/L)  PG Concentration (g/L)  PG/EG Ratio  \\\n",
       "1               13.219690              208.391724    15.763738   \n",
       "3               16.838202              264.832496    15.728075   \n",
       "5               17.034776              323.029406    18.962938   \n",
       "6               19.375754              335.963875    17.339397   \n",
       "7               18.031212              303.250974    16.818114   \n",
       "\n",
       "0  Conversion (%)  EG Yield (%)  PG Yield (%)  Overall Glycol Yield (%)  \n",
       "1        0.349499      0.065053      1.025478                  1.090531  \n",
       "3        0.352747      0.082097      1.291221                  1.373318  \n",
       "5        0.709251      0.041307      0.783311                  0.824619  \n",
       "6        0.701819      0.047482      0.823304                  0.870785  \n",
       "7        0.761805      0.040707      0.684622                  0.725329  \n",
       "\n",
       "[5 rows x 26 columns]"
      ],
      "text/html": [
       "<div>\n",
       "<style scoped>\n",
       "    .dataframe tbody tr th:only-of-type {\n",
       "        vertical-align: middle;\n",
       "    }\n",
       "\n",
       "    .dataframe tbody tr th {\n",
       "        vertical-align: top;\n",
       "    }\n",
       "\n",
       "    .dataframe thead th {\n",
       "        text-align: right;\n",
       "    }\n",
       "</style>\n",
       "<table border=\"1\" class=\"dataframe\">\n",
       "  <thead>\n",
       "    <tr style=\"text-align: right;\">\n",
       "      <th></th>\n",
       "      <th>Liquid Feed \\n(L/h)</th>\n",
       "      <th>Pure H2 Gas Flow Setpoint on PLC\\n(g/h)</th>\n",
       "      <th>Recycled H2 Gas Flow (g/h)</th>\n",
       "      <th>Total H2 Gas Flow (g/h)</th>\n",
       "      <th>RX-203 Pressure (psig)</th>\n",
       "      <th>T2 (Top)\\n(°C)</th>\n",
       "      <th>T3 \\n(°C)</th>\n",
       "      <th>T4\\n(°C)</th>\n",
       "      <th>T5 (Bottom)\\n(°C)</th>\n",
       "      <th>After HEX (°C)</th>\n",
       "      <th>...</th>\n",
       "      <th>Glycerol Feed Area (HPLC)</th>\n",
       "      <th>Glycerol Feed Concentration (g/L)</th>\n",
       "      <th>Glycerol Remaining Concentration (g/L)</th>\n",
       "      <th>EG Concentration (g/L)</th>\n",
       "      <th>PG Concentration (g/L)</th>\n",
       "      <th>PG/EG Ratio</th>\n",
       "      <th>Conversion (%)</th>\n",
       "      <th>EG Yield (%)</th>\n",
       "      <th>PG Yield (%)</th>\n",
       "      <th>Overall Glycol Yield (%)</th>\n",
       "    </tr>\n",
       "  </thead>\n",
       "  <tbody>\n",
       "    <tr>\n",
       "      <th>1</th>\n",
       "      <td>4.0</td>\n",
       "      <td>250.0</td>\n",
       "      <td>150.0</td>\n",
       "      <td>400</td>\n",
       "      <td>631.0</td>\n",
       "      <td>216.0</td>\n",
       "      <td>219.0</td>\n",
       "      <td>221.0</td>\n",
       "      <td>223.0</td>\n",
       "      <td>227.0</td>\n",
       "      <td>...</td>\n",
       "      <td>7670.7621</td>\n",
       "      <td>581.443767</td>\n",
       "      <td>378.229508</td>\n",
       "      <td>13.219690</td>\n",
       "      <td>208.391724</td>\n",
       "      <td>15.763738</td>\n",
       "      <td>0.349499</td>\n",
       "      <td>0.065053</td>\n",
       "      <td>1.025478</td>\n",
       "      <td>1.090531</td>\n",
       "    </tr>\n",
       "    <tr>\n",
       "      <th>3</th>\n",
       "      <td>4.0</td>\n",
       "      <td>250.0</td>\n",
       "      <td>150.0</td>\n",
       "      <td>400</td>\n",
       "      <td>633.0</td>\n",
       "      <td>218.0</td>\n",
       "      <td>221.0</td>\n",
       "      <td>225.0</td>\n",
       "      <td>223.0</td>\n",
       "      <td>228.0</td>\n",
       "      <td>...</td>\n",
       "      <td>7670.7621</td>\n",
       "      <td>581.443767</td>\n",
       "      <td>376.341444</td>\n",
       "      <td>16.838202</td>\n",
       "      <td>264.832496</td>\n",
       "      <td>15.728075</td>\n",
       "      <td>0.352747</td>\n",
       "      <td>0.082097</td>\n",
       "      <td>1.291221</td>\n",
       "      <td>1.373318</td>\n",
       "    </tr>\n",
       "    <tr>\n",
       "      <th>5</th>\n",
       "      <td>4.0</td>\n",
       "      <td>250.0</td>\n",
       "      <td>0.0</td>\n",
       "      <td>250</td>\n",
       "      <td>606.0</td>\n",
       "      <td>210.0</td>\n",
       "      <td>213.0</td>\n",
       "      <td>214.0</td>\n",
       "      <td>214.0</td>\n",
       "      <td>239.0</td>\n",
       "      <td>...</td>\n",
       "      <td>7670.7621</td>\n",
       "      <td>581.443767</td>\n",
       "      <td>169.054170</td>\n",
       "      <td>17.034776</td>\n",
       "      <td>323.029406</td>\n",
       "      <td>18.962938</td>\n",
       "      <td>0.709251</td>\n",
       "      <td>0.041307</td>\n",
       "      <td>0.783311</td>\n",
       "      <td>0.824619</td>\n",
       "    </tr>\n",
       "    <tr>\n",
       "      <th>6</th>\n",
       "      <td>4.0</td>\n",
       "      <td>250.0</td>\n",
       "      <td>0.0</td>\n",
       "      <td>250</td>\n",
       "      <td>613.0</td>\n",
       "      <td>213.0</td>\n",
       "      <td>215.0</td>\n",
       "      <td>216.0</td>\n",
       "      <td>217.0</td>\n",
       "      <td>239.0</td>\n",
       "      <td>...</td>\n",
       "      <td>7670.7621</td>\n",
       "      <td>581.443767</td>\n",
       "      <td>173.375733</td>\n",
       "      <td>19.375754</td>\n",
       "      <td>335.963875</td>\n",
       "      <td>17.339397</td>\n",
       "      <td>0.701819</td>\n",
       "      <td>0.047482</td>\n",
       "      <td>0.823304</td>\n",
       "      <td>0.870785</td>\n",
       "    </tr>\n",
       "    <tr>\n",
       "      <th>7</th>\n",
       "      <td>4.0</td>\n",
       "      <td>250.0</td>\n",
       "      <td>0.0</td>\n",
       "      <td>250</td>\n",
       "      <td>606.0</td>\n",
       "      <td>213.0</td>\n",
       "      <td>216.0</td>\n",
       "      <td>217.0</td>\n",
       "      <td>218.0</td>\n",
       "      <td>239.0</td>\n",
       "      <td>...</td>\n",
       "      <td>7670.7621</td>\n",
       "      <td>581.443767</td>\n",
       "      <td>138.497235</td>\n",
       "      <td>18.031212</td>\n",
       "      <td>303.250974</td>\n",
       "      <td>16.818114</td>\n",
       "      <td>0.761805</td>\n",
       "      <td>0.040707</td>\n",
       "      <td>0.684622</td>\n",
       "      <td>0.725329</td>\n",
       "    </tr>\n",
       "  </tbody>\n",
       "</table>\n",
       "<p>5 rows × 26 columns</p>\n",
       "</div>"
      ]
     },
     "metadata": {},
     "output_type": "display_data"
    },
    {
     "data": {
      "text/plain": [
       "0  Liquid Feed \\n(L/h)  Pure H2 Gas Flow Setpoint on PLC\\n(g/h)  \\\n",
       "1                  4.0                                    250.0   \n",
       "3                  4.0                                    250.0   \n",
       "5                  4.0                                    250.0   \n",
       "6                  4.0                                    250.0   \n",
       "7                  4.0                                    250.0   \n",
       "\n",
       "0  Recycled H2 Gas Flow (g/h)  Total H2 Gas Flow (g/h)  \\\n",
       "1                       150.0                      400   \n",
       "3                       150.0                      400   \n",
       "5                         0.0                      250   \n",
       "6                         0.0                      250   \n",
       "7                         0.0                      250   \n",
       "\n",
       "0  RX-203 Pressure (psig)  T2 (Top)\\n(°C)  T3 \\n(°C)  T4\\n(°C)  \\\n",
       "1                   631.0           216.0      219.0     221.0   \n",
       "3                   633.0           218.0      221.0     225.0   \n",
       "5                   606.0           210.0      213.0     214.0   \n",
       "6                   613.0           213.0      215.0     216.0   \n",
       "7                   606.0           213.0      216.0     217.0   \n",
       "\n",
       "0  T5 (Bottom)\\n(°C)  After HEX (°C)  Average Temp.\\n(°C)  Feed \\npH  \\\n",
       "1              223.0           227.0               219.75      11.30   \n",
       "3              223.0           228.0               221.75      11.30   \n",
       "5              214.0           239.0               212.75      11.15   \n",
       "6              217.0           239.0               215.25      11.10   \n",
       "7              218.0           239.0               216.00      11.10   \n",
       "\n",
       "0  Product \\npH  Glycerol Area   EG Area    PG Area  \\\n",
       "1          3.56      4989.8352  133.1288  2472.0252   \n",
       "3          3.95      4964.9267  169.5690  3141.5480   \n",
       "5          4.43      2230.2661  171.5486  3831.9028   \n",
       "6          4.43      2287.2788  195.1234  3985.3366   \n",
       "7          4.26      1827.1403  181.5832  3597.2832   \n",
       "\n",
       "0  Glycerol Feed Area (HPLC)  Glycerol Feed Concentration (g/L)  \n",
       "1                  7670.7621                         581.443767  \n",
       "3                  7670.7621                         581.443767  \n",
       "5                  7670.7621                         581.443767  \n",
       "6                  7670.7621                         581.443767  \n",
       "7                  7670.7621                         581.443767  "
      ],
      "text/html": [
       "<div>\n",
       "<style scoped>\n",
       "    .dataframe tbody tr th:only-of-type {\n",
       "        vertical-align: middle;\n",
       "    }\n",
       "\n",
       "    .dataframe tbody tr th {\n",
       "        vertical-align: top;\n",
       "    }\n",
       "\n",
       "    .dataframe thead th {\n",
       "        text-align: right;\n",
       "    }\n",
       "</style>\n",
       "<table border=\"1\" class=\"dataframe\">\n",
       "  <thead>\n",
       "    <tr style=\"text-align: right;\">\n",
       "      <th></th>\n",
       "      <th>Liquid Feed \\n(L/h)</th>\n",
       "      <th>Pure H2 Gas Flow Setpoint on PLC\\n(g/h)</th>\n",
       "      <th>Recycled H2 Gas Flow (g/h)</th>\n",
       "      <th>Total H2 Gas Flow (g/h)</th>\n",
       "      <th>RX-203 Pressure (psig)</th>\n",
       "      <th>T2 (Top)\\n(°C)</th>\n",
       "      <th>T3 \\n(°C)</th>\n",
       "      <th>T4\\n(°C)</th>\n",
       "      <th>T5 (Bottom)\\n(°C)</th>\n",
       "      <th>After HEX (°C)</th>\n",
       "      <th>Average Temp.\\n(°C)</th>\n",
       "      <th>Feed \\npH</th>\n",
       "      <th>Product \\npH</th>\n",
       "      <th>Glycerol Area</th>\n",
       "      <th>EG Area</th>\n",
       "      <th>PG Area</th>\n",
       "      <th>Glycerol Feed Area (HPLC)</th>\n",
       "      <th>Glycerol Feed Concentration (g/L)</th>\n",
       "    </tr>\n",
       "  </thead>\n",
       "  <tbody>\n",
       "    <tr>\n",
       "      <th>1</th>\n",
       "      <td>4.0</td>\n",
       "      <td>250.0</td>\n",
       "      <td>150.0</td>\n",
       "      <td>400</td>\n",
       "      <td>631.0</td>\n",
       "      <td>216.0</td>\n",
       "      <td>219.0</td>\n",
       "      <td>221.0</td>\n",
       "      <td>223.0</td>\n",
       "      <td>227.0</td>\n",
       "      <td>219.75</td>\n",
       "      <td>11.30</td>\n",
       "      <td>3.56</td>\n",
       "      <td>4989.8352</td>\n",
       "      <td>133.1288</td>\n",
       "      <td>2472.0252</td>\n",
       "      <td>7670.7621</td>\n",
       "      <td>581.443767</td>\n",
       "    </tr>\n",
       "    <tr>\n",
       "      <th>3</th>\n",
       "      <td>4.0</td>\n",
       "      <td>250.0</td>\n",
       "      <td>150.0</td>\n",
       "      <td>400</td>\n",
       "      <td>633.0</td>\n",
       "      <td>218.0</td>\n",
       "      <td>221.0</td>\n",
       "      <td>225.0</td>\n",
       "      <td>223.0</td>\n",
       "      <td>228.0</td>\n",
       "      <td>221.75</td>\n",
       "      <td>11.30</td>\n",
       "      <td>3.95</td>\n",
       "      <td>4964.9267</td>\n",
       "      <td>169.5690</td>\n",
       "      <td>3141.5480</td>\n",
       "      <td>7670.7621</td>\n",
       "      <td>581.443767</td>\n",
       "    </tr>\n",
       "    <tr>\n",
       "      <th>5</th>\n",
       "      <td>4.0</td>\n",
       "      <td>250.0</td>\n",
       "      <td>0.0</td>\n",
       "      <td>250</td>\n",
       "      <td>606.0</td>\n",
       "      <td>210.0</td>\n",
       "      <td>213.0</td>\n",
       "      <td>214.0</td>\n",
       "      <td>214.0</td>\n",
       "      <td>239.0</td>\n",
       "      <td>212.75</td>\n",
       "      <td>11.15</td>\n",
       "      <td>4.43</td>\n",
       "      <td>2230.2661</td>\n",
       "      <td>171.5486</td>\n",
       "      <td>3831.9028</td>\n",
       "      <td>7670.7621</td>\n",
       "      <td>581.443767</td>\n",
       "    </tr>\n",
       "    <tr>\n",
       "      <th>6</th>\n",
       "      <td>4.0</td>\n",
       "      <td>250.0</td>\n",
       "      <td>0.0</td>\n",
       "      <td>250</td>\n",
       "      <td>613.0</td>\n",
       "      <td>213.0</td>\n",
       "      <td>215.0</td>\n",
       "      <td>216.0</td>\n",
       "      <td>217.0</td>\n",
       "      <td>239.0</td>\n",
       "      <td>215.25</td>\n",
       "      <td>11.10</td>\n",
       "      <td>4.43</td>\n",
       "      <td>2287.2788</td>\n",
       "      <td>195.1234</td>\n",
       "      <td>3985.3366</td>\n",
       "      <td>7670.7621</td>\n",
       "      <td>581.443767</td>\n",
       "    </tr>\n",
       "    <tr>\n",
       "      <th>7</th>\n",
       "      <td>4.0</td>\n",
       "      <td>250.0</td>\n",
       "      <td>0.0</td>\n",
       "      <td>250</td>\n",
       "      <td>606.0</td>\n",
       "      <td>213.0</td>\n",
       "      <td>216.0</td>\n",
       "      <td>217.0</td>\n",
       "      <td>218.0</td>\n",
       "      <td>239.0</td>\n",
       "      <td>216.00</td>\n",
       "      <td>11.10</td>\n",
       "      <td>4.26</td>\n",
       "      <td>1827.1403</td>\n",
       "      <td>181.5832</td>\n",
       "      <td>3597.2832</td>\n",
       "      <td>7670.7621</td>\n",
       "      <td>581.443767</td>\n",
       "    </tr>\n",
       "  </tbody>\n",
       "</table>\n",
       "</div>"
      ]
     },
     "metadata": {},
     "output_type": "display_data"
    }
   ],
   "execution_count": 81
  },
  {
   "cell_type": "code",
   "id": "39ff5f25a0cbf272",
   "metadata": {
    "ExecuteTime": {
     "end_time": "2024-11-22T01:55:14.705629Z",
     "start_time": "2024-11-22T01:55:14.700993Z"
    }
   },
   "source": [
    "print(f\"hydrogen_df contains {hydrogen_df.shape[0]} rows and {hydrogen_df.shape[1]} columns\")\n",
    "print(f\"numerical_df contains {numerical_df.shape[0]} rows and {numerical_df.shape[1]} columns\")\n",
    "print(f\"no_calc_df contains {no_calc_df.shape[0]} rows and {no_calc_df.shape[1]} columns\")"
   ],
   "outputs": [
    {
     "name": "stdout",
     "output_type": "stream",
     "text": [
      "hydrogen_df contains 135 rows and 28 columns\n",
      "numerical_df contains 135 rows and 26 columns\n",
      "no_calc_df contains 135 rows and 18 columns\n"
     ]
    }
   ],
   "execution_count": 82
  },
  {
   "cell_type": "markdown",
   "id": "fdc24d6c80248d71",
   "metadata": {},
   "source": [
    "## PREDICTIVE MODELLING\n",
    "\n",
    "### Creating an evaluation metrics function\n",
    "\n",
    "When predicting glycol yield, it is crucial to evaluate the performance of the models using a variety of metrics to ensure robust and reliable predictions. Each metric offers unique insights into the model's accuracy and error behavior:\n",
    "* Root Mean Squared Error (RMSE) - provides an intuitive sense of the typical magnitude of errors, expressed in the same unit as the target variable. It heavily penalizes large deviations, making it particularly useful when significant errors are undesirable in glycol yield prediction.\n",
    "* Mean Absolute Error (MAE) - measures the average size of errors without disproportionately penalizing outliers, offering a straightforward and interpretable assessment of model accuracy. This is helpful when all errors, regardless of their magnitude, are equally important.\n",
    "* Mean Squared Error (MSE) - emphasizes larger errors even more than RMSE, making it suitable for identifying and addressing extreme discrepancies in predictions. It is also commonly used as a loss function during model training, aiding in optimization.\n",
    "* Mean Absolute Percentage Error (MAPE) - evaluates errors as a percentage of actual values, making it scale-independent and easy to interpret. This is particularly valuable when comparing the model's performance across different scales of glycol yield or process conditions.\n",
    "* R-Squared - explains the proportion of variance in the target variable (glycol yield) that is explained by the model's predictors. It provides a holistic view of the model's ability to capture the relationship between input features and the target."
   ]
  },
  {
   "cell_type": "code",
   "id": "41769279a6314432",
   "metadata": {
    "ExecuteTime": {
     "end_time": "2024-11-22T01:55:14.858443Z",
     "start_time": "2024-11-22T01:55:14.851578Z"
    }
   },
   "source": [
    "rmse_scores = {}\n",
    "r2_scores = {}\n",
    "mae_scores = {}\n",
    "mape_scores = {}\n",
    "\n",
    "\n",
    "def evaluate_model(model_name, model, model_result, X_test, y_test):\n",
    "    best_model = model.best_estimator_\n",
    "    y_pred = best_model.predict(X_test)\n",
    "\n",
    "    r2 = r2_score(y_test, y_pred)\n",
    "    mae = mean_absolute_error(y_test, y_pred)\n",
    "    mape = mean_absolute_percentage_error(y_test, y_pred) * 100\n",
    "\n",
    "    rmse_scores[model_name] = -model_result.best_score_\n",
    "    r2_scores[model_name] = r2\n",
    "    mae_scores[model_name] = mae\n",
    "    mape_scores[model_name] = mape\n",
    "\n",
    "    print(f\"Best parameters for {model_name}: {model_result.best_params_}\")\n",
    "    print(f\"{model_name} RMSE: {-model_result.best_score_:.2f}\")\n",
    "    print(f\"{model_name} R^2 Score: {r2:.2f}%\")\n",
    "    print(f\"{model_name} MAE: {mae:.2f}\")\n",
    "    print(f\"{model_name} MAPE: {mape:.2f}%\")"
   ],
   "outputs": [],
   "execution_count": 83
  },
  {
   "cell_type": "markdown",
   "id": "b902275fec7936ac",
   "metadata": {},
   "source": [
    "### Selecting features\n",
    "\n",
    "We used the 'PG Area' as target variable. Before building the model, we carefully selected the features to ensure relevance and minimize redundancy. The following adjustments were made:\n",
    "\n",
    "* Utilized the average temperature (Ave. Temp) instead of the individual temperature readings (T2, T3, T4, and T5) for simplicity and to reduce multicollinearity.\n",
    "* Removed the highly correlated feature glycerol feed area, as it strongly correlates with glycerol feed concentration.\n",
    "* Excluded total H2 gas flow since it is a derived feature, representing the sum of pure H2 gas flow and recycled H2 gas flow."
   ]
  },
  {
   "cell_type": "code",
   "id": "76ce30cff350f5e3",
   "metadata": {
    "ExecuteTime": {
     "end_time": "2024-11-22T01:55:15.027480Z",
     "start_time": "2024-11-22T01:55:15.019255Z"
    }
   },
   "source": [
    "uncontrolled_factors = [\n",
    "    'T2 (Top)\\n(°C)',\n",
    "    'T3 \\n(°C)',\n",
    "    'T4\\n(°C)',\n",
    "    'T5 (Bottom)\\n(°C)',\n",
    "]\n",
    "\n",
    "output_factors = [\n",
    "    # 'Product \\npH',\n",
    "    # 'Glycerol Area',\n",
    "    'EG Area',\n",
    "    'PG Area',\n",
    "]\n",
    "\n",
    "highly_correlated_factors = [\n",
    "    'Glycerol Feed Area (HPLC)',  # with Glycerol Feed Concentration (g/L)\n",
    "    'Total H2 Gas Flow (g/h)',\n",
    "]\n",
    "\n",
    "factors_to_remove = uncontrolled_factors + output_factors + highly_correlated_factors\n",
    "\n",
    "y = no_calc_df['PG Area']\n",
    "X = no_calc_df.drop(columns=factors_to_remove, axis=1)\n",
    "\n",
    "X_train, X_test, y_train, y_test = train_test_split(X, y, test_size=0.2, random_state=101)\n",
    "\n",
    "cv = RepeatedKFold(n_splits=5, n_repeats=2, random_state=101)"
   ],
   "outputs": [],
   "execution_count": 84
  },
  {
   "cell_type": "code",
   "id": "1b27190746c13268",
   "metadata": {
    "ExecuteTime": {
     "end_time": "2024-11-22T01:55:15.160835Z",
     "start_time": "2024-11-22T01:55:15.156985Z"
    }
   },
   "source": [
    "X.columns.tolist()"
   ],
   "outputs": [
    {
     "data": {
      "text/plain": [
       "['Liquid Feed \\n(L/h)',\n",
       " 'Pure H2 Gas Flow Setpoint on PLC\\n(g/h)',\n",
       " 'Recycled H2 Gas Flow (g/h)',\n",
       " 'RX-203 Pressure (psig)',\n",
       " 'After HEX (°C)',\n",
       " 'Average Temp.\\n(°C)',\n",
       " 'Feed \\npH',\n",
       " 'Product \\npH',\n",
       " 'Glycerol Area',\n",
       " 'Glycerol Feed Concentration (g/L)']"
      ]
     },
     "execution_count": 85,
     "metadata": {},
     "output_type": "execute_result"
    }
   ],
   "execution_count": 85
  },
  {
   "cell_type": "markdown",
   "id": "2427733fd73838ae",
   "metadata": {},
   "source": [
    "### Random Forest Analysis\n",
    "\n",
    "Best for: high-dimensional data | Pros: robust to overfitting, handles feature importance | Cons: slow to train, hard to interpret individual trees"
   ]
  },
  {
   "cell_type": "code",
   "id": "1ff343deee9a66c1",
   "metadata": {
    "ExecuteTime": {
     "end_time": "2024-11-22T01:55:15.169620Z",
     "start_time": "2024-11-22T01:55:15.164848Z"
    }
   },
   "source": [
    "rf_model = RandomForestRegressor(warm_start=True, random_state=101, n_jobs=-1)\n",
    "\n",
    "rf_param_grid = {\n",
    "    'n_estimators': [100, 500, 1000],\n",
    "    'max_depth': [None, 10, 20],\n",
    "    'min_samples_split': [2, 5, 10],\n",
    "    'max_leaf_nodes': [None, 2, 5],\n",
    "    'min_samples_leaf': [2, 5],\n",
    "}\n",
    "\n",
    "rf_search = GridSearchCV(rf_model, rf_param_grid, scoring='neg_root_mean_squared_error', n_jobs=-1, cv=cv)"
   ],
   "outputs": [],
   "execution_count": 86
  },
  {
   "cell_type": "code",
   "id": "590cd6dde92298a",
   "metadata": {
    "ExecuteTime": {
     "end_time": "2024-11-22T01:57:12.025882Z",
     "start_time": "2024-11-22T01:55:15.298255Z"
    }
   },
   "source": [
    "rf_result = rf_search.fit(X_train, y_train)\n",
    "\n",
    "evaluate_model(\"Random Forest\", rf_search, rf_result, X_test, y_test)"
   ],
   "outputs": [
    {
     "name": "stdout",
     "output_type": "stream",
     "text": [
      "Best parameters for Random Forest: {'max_depth': 20, 'max_leaf_nodes': None, 'min_samples_leaf': 2, 'min_samples_split': 5, 'n_estimators': 1000}\n",
      "Random Forest RMSE: 925.01\n",
      "Random Forest R^2 Score: 0.70%\n",
      "Random Forest MAE: 675.17\n",
      "Random Forest MAPE: 17.47%\n"
     ]
    }
   ],
   "execution_count": 87
  },
  {
   "cell_type": "markdown",
   "id": "8ca267fd47c17069",
   "metadata": {},
   "source": [
    "With an RMSE of 925.01, the model's predictions have an average error of approximately 925.01 units. Given that the target variable ranges from 51.83 to 9564.78, this error is moderate. On average, the model's error represents about 9.7% of the target range. This suggests that while the model is capturing some variation in the target, there is still room for improvement in accuracy\n",
    "\n",
    "The model captures around 70% of the variance in the target variable, indicating a reasonably strong fit and suggesting the features used are effective predictors."
   ]
  },
  {
   "cell_type": "markdown",
   "id": "7688675a7d1aa9c2",
   "metadata": {},
   "source": [
    "### Linear/Ridge/Lasso Regression\n",
    "\n",
    "Linear | Best for: simple relationships, small datasets | Pros: easy to interpret, fast to train | Cons: sensitive to outliers, assumes linearity\n",
    "\n",
    "Ridge | Best for: data with multi collinearity, small datasets | Pros: handles multi collinearity, prevents overfitting\n",
    "\n",
    "Lasso | Best for: sparse models, feature selection | Pros: automatic feature selection"
   ]
  },
  {
   "cell_type": "code",
   "id": "822bf4d1da093376",
   "metadata": {
    "ExecuteTime": {
     "end_time": "2024-11-22T01:57:12.112786Z",
     "start_time": "2024-11-22T01:57:12.105642Z"
    }
   },
   "source": [
    "lr_model = LinearRegression(n_jobs=-1)\n",
    "ridge_model = Ridge(random_state=101)\n",
    "lasso_model = Lasso(warm_start=True, random_state=101)\n",
    "\n",
    "lr_param_grid = {\n",
    "    'fit_intercept': [True, False],\n",
    "}\n",
    "\n",
    "ridge_param_grid = {\n",
    "    'alpha': [0.01, 0.1, 1.0, 10, 100],\n",
    "    'fit_intercept': [True, False],\n",
    "    'max_iter': [None, 1000, 5000, 10000],\n",
    "    'tol': [1e-3, 1e-4, 1e-5]\n",
    "}\n",
    "\n",
    "lasso_param_grid = {\n",
    "    'alpha': [0.01, 0.1, 1.0, 10, 100],\n",
    "    'fit_intercept': [True, False],\n",
    "    'precompute': [True, False],\n",
    "    'tol': [1e-3, 1e-4, 1e-5],\n",
    "    'selection': ['cyclic', 'random']\n",
    "}\n",
    "\n",
    "lr_search = GridSearchCV(lr_model, lr_param_grid, scoring='neg_root_mean_squared_error', n_jobs=-1, cv=cv)\n",
    "\n",
    "ridge_search = GridSearchCV(ridge_model, ridge_param_grid, scoring='neg_root_mean_squared_error', n_jobs=-1, cv=cv)\n",
    "\n",
    "lasso_search = GridSearchCV(lasso_model, lasso_param_grid, scoring='neg_root_mean_squared_error', n_jobs=-1, cv=cv)"
   ],
   "outputs": [],
   "execution_count": 88
  },
  {
   "cell_type": "code",
   "id": "5cb6edf4482b0f74",
   "metadata": {
    "ExecuteTime": {
     "end_time": "2024-11-22T01:57:12.157529Z",
     "start_time": "2024-11-22T01:57:12.112904Z"
    }
   },
   "source": [
    "lr_result = lr_search.fit(X_train, y_train)\n",
    "\n",
    "evaluate_model(\"Linear\", lr_search, lr_result, X_test, y_test)"
   ],
   "outputs": [
    {
     "name": "stdout",
     "output_type": "stream",
     "text": [
      "Best parameters for Linear: {'fit_intercept': True}\n",
      "Linear RMSE: 870.09\n",
      "Linear R^2 Score: 0.76%\n",
      "Linear MAE: 659.71\n",
      "Linear MAPE: 13.45%\n"
     ]
    }
   ],
   "execution_count": 89
  },
  {
   "cell_type": "code",
   "id": "b448f3fc6eaadb06",
   "metadata": {
    "ExecuteTime": {
     "end_time": "2024-11-22T01:57:12.933979Z",
     "start_time": "2024-11-22T01:57:12.230838Z"
    }
   },
   "source": [
    "ridge_result = ridge_search.fit(X_train, y_train)\n",
    "\n",
    "evaluate_model(\"Ridge\", ridge_search, ridge_result, X_test, y_test)"
   ],
   "outputs": [
    {
     "name": "stdout",
     "output_type": "stream",
     "text": [
      "Best parameters for Ridge: {'alpha': 100, 'fit_intercept': True, 'max_iter': None, 'tol': 0.001}\n",
      "Ridge RMSE: 848.50\n",
      "Ridge R^2 Score: 0.78%\n",
      "Ridge MAE: 640.69\n",
      "Ridge MAPE: 13.00%\n"
     ]
    }
   ],
   "execution_count": 90
  },
  {
   "cell_type": "code",
   "id": "8633cb2e102d3a2",
   "metadata": {
    "ExecuteTime": {
     "end_time": "2024-11-22T01:57:13.766136Z",
     "start_time": "2024-11-22T01:57:13.001495Z"
    }
   },
   "source": [
    "lasso_result = lasso_search.fit(X_train, y_train)\n",
    "\n",
    "evaluate_model(\"Lasso\", lasso_search, lasso_result, X_test, y_test)"
   ],
   "outputs": [
    {
     "name": "stdout",
     "output_type": "stream",
     "text": [
      "Best parameters for Lasso: {'alpha': 100, 'fit_intercept': True, 'precompute': False, 'selection': 'cyclic', 'tol': 1e-05}\n",
      "Lasso RMSE: 847.13\n",
      "Lasso R^2 Score: 0.77%\n",
      "Lasso MAE: 643.75\n",
      "Lasso MAPE: 13.19%\n"
     ]
    }
   ],
   "execution_count": 91
  },
  {
   "cell_type": "markdown",
   "id": "3e1b955f03afe618",
   "metadata": {},
   "source": [
    "With an RMSE of 847~870, given the range of the target variable, this level of error is moderate, indicating that the model is performing reasonably well.\n",
    "\n",
    "The models capture around 76~78% of the variance in the target variable, indicating a strong fit and suggesting the features used are good predictors."
   ]
  },
  {
   "cell_type": "markdown",
   "id": "2159582602562ea",
   "metadata": {},
   "source": [
    "### SGD Regressor\n",
    "\n",
    "Best for: large datasets | Pros: efficient with large datasets | Cons: requires careful tuning, sensitive to learning rate and regularization settings"
   ]
  },
  {
   "cell_type": "code",
   "id": "4c7389b7d249b9b7",
   "metadata": {
    "ExecuteTime": {
     "end_time": "2024-11-22T01:57:13.835542Z",
     "start_time": "2024-11-22T01:57:13.830192Z"
    }
   },
   "source": [
    "sgd_model = SGDRegressor(warm_start=True, random_state=101)\n",
    "\n",
    "sgd_param_grid = {\n",
    "    'loss': ['squared_error', 'huber', 'epsilon_insensitive', 'squared_epsilon_insensitive'],\n",
    "    'penalty': ['l2', 'l1', 'elasticnet'],\n",
    "    'alpha': [1e-5, 1e-4, 1e-3],\n",
    "    'learning_rate': ['constant', 'optimal', 'invscaling', 'adaptive'],\n",
    "    'eta0': [0.001, 0.01, 0.1],\n",
    "    'max_iter': [1000, 2000, 5000, 1000],\n",
    "    'tol': [1e-3, 1e-4, 1e-5],\n",
    "    'fit_intercept': [True, False]\n",
    "}\n",
    "\n",
    "sgd_search = GridSearchCV(sgd_model, sgd_param_grid, scoring='neg_root_mean_squared_error', n_jobs=-1, cv=cv)"
   ],
   "outputs": [],
   "execution_count": 92
  },
  {
   "cell_type": "code",
   "id": "d3abb2afcf35d022",
   "metadata": {
    "ExecuteTime": {
     "end_time": "2024-11-22T01:57:59.594537Z",
     "start_time": "2024-11-22T01:57:13.900154Z"
    }
   },
   "source": [
    "sgd_result = sgd_search.fit(X_train, y_train)\n",
    "\n",
    "evaluate_model(\"SGD\", sgd_search, sgd_result, X_test, y_test)"
   ],
   "outputs": [
    {
     "name": "stdout",
     "output_type": "stream",
     "text": [
      "Best parameters for SGD: {'alpha': 0.001, 'eta0': 0.1, 'fit_intercept': False, 'learning_rate': 'adaptive', 'loss': 'huber', 'max_iter': 1000, 'penalty': 'elasticnet', 'tol': 0.001}\n",
      "SGD RMSE: 861.61\n",
      "SGD R^2 Score: 0.79%\n",
      "SGD MAE: 570.72\n",
      "SGD MAPE: 12.32%\n"
     ]
    }
   ],
   "execution_count": 93
  },
  {
   "cell_type": "markdown",
   "id": "4224d3fd7139bd47",
   "metadata": {},
   "source": [
    "With an RMSE of 861.61, given the range of the target variable, this error level indicates the model is fairly accurate.\n",
    "\n",
    "An R² of 0.79 shows that the model explains 79% of the variance in the target variable, indicating a strong fit. "
   ]
  },
  {
   "cell_type": "markdown",
   "id": "132c1e522a622a88",
   "metadata": {},
   "source": [
    "### Decision Tree Regressor\n",
    "\n",
    "Best for: non-linear relationships, easy to interpret models | Pros: easy to visualize, no need for feature scaling | Cons: prone to overfitting without tuning"
   ]
  },
  {
   "cell_type": "code",
   "id": "710202c9a7fad386",
   "metadata": {
    "ExecuteTime": {
     "end_time": "2024-11-22T01:57:59.662687Z",
     "start_time": "2024-11-22T01:57:59.657764Z"
    }
   },
   "source": [
    "dt_model = DecisionTreeRegressor(random_state=101)\n",
    "\n",
    "dt_param_grid = {\n",
    "    'criterion': ['squared_error', 'friedman_mse', 'absolute_error', 'poisson'],\n",
    "    'max_depth': [None, 5, 10, 20],\n",
    "    'min_samples_split': [2, 5, 10],\n",
    "    'min_samples_leaf': [1, 2, 5, 10],\n",
    "    'max_features': ['sqrt', 'log2', None],\n",
    "    'max_leaf_nodes': [None, 10, 20, 30]\n",
    "}\n",
    "\n",
    "dt_search = GridSearchCV(dt_model, dt_param_grid, scoring='neg_root_mean_squared_error', n_jobs=-1, cv=cv)"
   ],
   "outputs": [],
   "execution_count": 94
  },
  {
   "cell_type": "code",
   "id": "e194957b6393a808",
   "metadata": {
    "ExecuteTime": {
     "end_time": "2024-11-22T01:58:09.091847Z",
     "start_time": "2024-11-22T01:57:59.729493Z"
    }
   },
   "source": [
    "dt_result = dt_search.fit(X_train, y_train)\n",
    "\n",
    "evaluate_model(\"Decision Tree\", dt_search, dt_result, X_test, y_test)"
   ],
   "outputs": [
    {
     "name": "stdout",
     "output_type": "stream",
     "text": [
      "Best parameters for Decision Tree: {'criterion': 'absolute_error', 'max_depth': None, 'max_features': 'sqrt', 'max_leaf_nodes': None, 'min_samples_leaf': 2, 'min_samples_split': 10}\n",
      "Decision Tree RMSE: 944.39\n",
      "Decision Tree R^2 Score: 0.35%\n",
      "Decision Tree MAE: 788.44\n",
      "Decision Tree MAPE: 24.56%\n"
     ]
    }
   ],
   "execution_count": 95
  },
  {
   "cell_type": "markdown",
   "id": "8eff5ed287bca138",
   "metadata": {},
   "source": [
    "The Decision Tree model has an R² score of 0.35, which indicates that it explains only 35% of the variance in the data, meaning it struggles to capture the underlying patterns effectively. The RMSE of 944.4 shows a substantial level of prediction error, which suggests the model might be overfitting or underfitting the data."
   ]
  },
  {
   "cell_type": "markdown",
   "id": "a3619dc8f144c726",
   "metadata": {},
   "source": [
    "### KNN Regressor\n",
    "\n",
    "Best for: non-linear relationships, small to medium datasets | Pros: simple, no assumptions about data distribution | Cons: sensitive to noise, memory-heavy for large datasets"
   ]
  },
  {
   "cell_type": "code",
   "id": "abf9cb2befa239d4",
   "metadata": {
    "ExecuteTime": {
     "end_time": "2024-11-22T01:58:09.159916Z",
     "start_time": "2024-11-22T01:58:09.154848Z"
    }
   },
   "source": [
    "knn_model = KNeighborsRegressor(n_jobs=-1)\n",
    "\n",
    "knn_param_grid = {\n",
    "    'n_neighbors': [3, 5, 7, 9, 11],\n",
    "    'weights': ['uniform', 'distance'],\n",
    "    'algorithm': ['auto', 'ball_tree', 'kd_tree', 'brute'],\n",
    "    'leaf_size': [10, 20, 30, 40, 50, 100],\n",
    "    'metric': ['euclidean', 'manhattan', 'minkowski']\n",
    "}\n",
    "\n",
    "knn_search = GridSearchCV(knn_model, knn_param_grid, scoring='neg_root_mean_squared_error', n_jobs=-1, cv=cv)"
   ],
   "outputs": [],
   "execution_count": 96
  },
  {
   "cell_type": "code",
   "id": "840811825ec62509",
   "metadata": {
    "ExecuteTime": {
     "end_time": "2024-11-22T01:58:19.704119Z",
     "start_time": "2024-11-22T01:58:09.225736Z"
    }
   },
   "source": [
    "knn_result = knn_search.fit(X_train, y_train)\n",
    "\n",
    "evaluate_model(\"KNN\", knn_search, knn_result, X_test, y_test)"
   ],
   "outputs": [
    {
     "name": "stdout",
     "output_type": "stream",
     "text": [
      "Best parameters for KNN: {'algorithm': 'auto', 'leaf_size': 10, 'metric': 'manhattan', 'n_neighbors': 7, 'weights': 'distance'}\n",
      "KNN RMSE: 980.50\n",
      "KNN R^2 Score: 0.75%\n",
      "KNN MAE: 630.41\n",
      "KNN MAPE: 16.47%\n"
     ]
    }
   ],
   "execution_count": 97
  },
  {
   "cell_type": "markdown",
   "id": "66348d3fde5c1649",
   "metadata": {},
   "source": [
    "The KNN model shows a good performance with an R² score of 0.75, indicating that 75% of the variance in the data is explained by the model.\n",
    " \n",
    "The RMSE of 980.5 suggests some error in the predictions, but the relatively high R² score implies that the model is making reasonably accurate predictions"
   ]
  },
  {
   "cell_type": "markdown",
   "id": "ef72010c729c35fe",
   "metadata": {},
   "source": [
    "### Bayesian Regression\n",
    "\n",
    "Best for: small datasets, need uncertainty estimates | Pros: provides uncertainty estimates on predictions | Cons: computationally expensive for large datasets"
   ]
  },
  {
   "cell_type": "code",
   "id": "79676c048d050cd4",
   "metadata": {
    "ExecuteTime": {
     "end_time": "2024-11-22T01:58:19.772528Z",
     "start_time": "2024-11-22T01:58:19.767324Z"
    }
   },
   "source": [
    "bayesian_model = BayesianRidge()\n",
    "\n",
    "bayesian_param_grid = {\n",
    "    'alpha_1': [1e-6, 1e-3, 1.0, 1e3],\n",
    "    'alpha_2': [1e-6, 1e-3, 1.0, 1e3],\n",
    "    'lambda_1': [1e-6, 1e-3, 1.0, 1e3],\n",
    "    'lambda_2': [1e-6, 1e-3, 1.0, 1e3],\n",
    "    'tol': [1e-3, 1e-4, 1e-5],\n",
    "    'max_iter': [None, 1000, 5000, 10000],\n",
    "    'fit_intercept': [True, False]\n",
    "}\n",
    "\n",
    "bayesian_search = GridSearchCV(bayesian_model, bayesian_param_grid, scoring='neg_root_mean_squared_error', n_jobs=-1,\n",
    "                               cv=cv)"
   ],
   "outputs": [],
   "execution_count": 98
  },
  {
   "cell_type": "code",
   "id": "33dae907c41b782c",
   "metadata": {
    "ExecuteTime": {
     "end_time": "2024-11-22T01:58:48.354814Z",
     "start_time": "2024-11-22T01:58:19.837956Z"
    }
   },
   "source": [
    "bayesian_result = bayesian_search.fit(X_train, y_train)\n",
    "\n",
    "evaluate_model(\"Bayesian Ridge\", bayesian_search, bayesian_result, X_test, y_test)"
   ],
   "outputs": [
    {
     "name": "stdout",
     "output_type": "stream",
     "text": [
      "Best parameters for Bayesian Ridge: {'alpha_1': 1000.0, 'alpha_2': 1e-06, 'fit_intercept': True, 'lambda_1': 1000.0, 'lambda_2': 1000.0, 'max_iter': None, 'tol': 0.0001}\n",
      "Bayesian Ridge RMSE: 841.39\n",
      "Bayesian Ridge R^2 Score: 0.77%\n",
      "Bayesian Ridge MAE: 651.54\n",
      "Bayesian Ridge MAPE: 14.37%\n"
     ]
    }
   ],
   "execution_count": 99
  },
  {
   "cell_type": "markdown",
   "id": "783edbc5d69c3373",
   "metadata": {},
   "source": [
    "The Bayesian Ridge regression model performs well with an R² score of 0.77, indicating that it explains 77% of the variance in the data. \n",
    "\n",
    "This is a strong performance, suggesting that the model is effectively capturing the relationships in the data. The RMSE of 841.4 indicates moderate error in predictions, but the R² score suggests the model is making relatively accurate predictions overall."
   ]
  },
  {
   "cell_type": "markdown",
   "id": "2996330db5c2111b",
   "metadata": {},
   "source": [
    "### MLP Regressor\n",
    "\n",
    "Best for: capturing complex, non-linear relationships |\n",
    "Pros: flexible, can model highly non-linear relationships; can handle large amounts of data |\n",
    "Cons: requires careful tuning of architecture and hyperparameters; prone to overfitting without proper regularization"
   ]
  },
  {
   "cell_type": "code",
   "id": "44e2b3ccba4ef729",
   "metadata": {
    "ExecuteTime": {
     "end_time": "2024-11-22T01:58:48.440103Z",
     "start_time": "2024-11-22T01:58:48.432470Z"
    }
   },
   "source": [
    "mlp = MLPRegressor(warm_start=True, random_state=101)\n",
    "\n",
    "param_grid = {\n",
    "    'hidden_layer_sizes': [(50,), (100,), (50, 50), (100, 50)],\n",
    "    'activation': ['relu', 'tanh'],\n",
    "    'alpha': [0.0001, 0.001, 0.01],\n",
    "    'learning_rate_init': [0.001, 0.01],\n",
    "    'max_iter': [500, 1000],\n",
    "}\n",
    "\n",
    "mlp_search = GridSearchCV(mlp, param_grid, cv=cv, scoring='neg_root_mean_squared_error', n_jobs=-1)"
   ],
   "outputs": [],
   "execution_count": 100
  },
  {
   "cell_type": "code",
   "id": "1bc9c2d761f5a6ee",
   "metadata": {
    "ExecuteTime": {
     "end_time": "2024-11-22T01:59:28.299999Z",
     "start_time": "2024-11-22T01:58:48.515591Z"
    }
   },
   "source": [
    "mlp_result = mlp_search.fit(X_train, y_train)\n",
    "\n",
    "evaluate_model(\"MLP\", mlp_search, mlp_result, X_test, y_test)"
   ],
   "outputs": [
    {
     "name": "stdout",
     "output_type": "stream",
     "text": [
      "Best parameters for MLP: {'activation': 'relu', 'alpha': 0.001, 'hidden_layer_sizes': (100,), 'learning_rate_init': 0.001, 'max_iter': 1000}\n",
      "MLP RMSE: 913.22\n",
      "MLP R^2 Score: 0.77%\n",
      "MLP MAE: 658.22\n",
      "MLP MAPE: 15.63%\n"
     ]
    }
   ],
   "execution_count": 101
  },
  {
   "cell_type": "markdown",
   "id": "5c188f9cc89e2827",
   "metadata": {},
   "source": [
    "The MLP (Multi-Layer Perceptron) model shows good performance with an R² score of 0.77, similar to the Bayesian Ridge model, indicating that it explains 77% of the variance in the data. The RMSE of 913.2 shows moderate prediction error, which is reasonable"
   ]
  },
  {
   "cell_type": "markdown",
   "id": "e8056da217ff39bb",
   "metadata": {},
   "source": [
    "### XGB Regressor\n",
    "\n",
    "Best for: structured/tabular data with complex patterns |\n",
    "Pros: highly accurate, handles missing values and outliers well, fast training with parallelization |\n",
    "Cons: sensitive to noisy data and outliers; requires careful hyperparameter tuning"
   ]
  },
  {
   "cell_type": "code",
   "id": "908514a4dbc297ea",
   "metadata": {
    "ExecuteTime": {
     "end_time": "2024-11-22T01:59:28.374222Z",
     "start_time": "2024-11-22T01:59:28.368703Z"
    }
   },
   "source": [
    "xgb_model = XGBRegressor(random_state=101, n_jobs=-1)\n",
    "\n",
    "xgb_param_grid = {\n",
    "    'n_estimators': [100, 200, 300],\n",
    "    'learning_rate': [0.01, 0.05, 0.1],\n",
    "    'max_depth': [3, 5, 7],\n",
    "    'subsample': [0.7, 0.8, 1.0],\n",
    "    'colsample_bytree': [0.7, 0.8, 1.0]\n",
    "}\n",
    "\n",
    "xgb_search = GridSearchCV(xgb_model, xgb_param_grid, scoring='neg_root_mean_squared_error', n_jobs=-1, cv=cv)"
   ],
   "outputs": [],
   "execution_count": 102
  },
  {
   "cell_type": "code",
   "id": "83c0c5f2daa49ecc",
   "metadata": {
    "ExecuteTime": {
     "end_time": "2024-11-22T01:59:44.144001Z",
     "start_time": "2024-11-22T01:59:28.448012Z"
    }
   },
   "source": [
    "xgb_result = xgb_search.fit(X_train, y_train)\n",
    "\n",
    "evaluate_model(\"XGB\", xgb_search, xgb_result, X_test, y_test)"
   ],
   "outputs": [
    {
     "name": "stdout",
     "output_type": "stream",
     "text": [
      "Best parameters for XGB: {'colsample_bytree': 0.7, 'learning_rate': 0.05, 'max_depth': 3, 'n_estimators': 100, 'subsample': 0.7}\n",
      "XGB RMSE: 945.24\n",
      "XGB R^2 Score: 0.69%\n",
      "XGB MAE: 647.43\n",
      "XGB MAPE: 16.97%\n"
     ]
    }
   ],
   "execution_count": 103
  },
  {
   "cell_type": "markdown",
   "id": "b102fbb6b90fe49",
   "metadata": {},
   "source": [
    "\n",
    "The XGBoost model performs decently with an R² score of 0.69, meaning it explains 69% of the variance in the data. However, the RMSE of 945.2 indicates significant prediction error"
   ]
  },
  {
   "cell_type": "markdown",
   "id": "1183068125071e26",
   "metadata": {},
   "source": [
    "### Stacked Regression\n",
    "\n",
    "Best for: improving predictive performance through ensemble learning |\n",
    "Pros: combines multiple models to reduce bias and variance; can leverage the strengths of different algorithms |\n",
    "Cons: complex to implement and tune; risk of overfitting if base models are not properly selected"
   ]
  },
  {
   "cell_type": "code",
   "id": "c1c4455d7efe02c2",
   "metadata": {
    "ExecuteTime": {
     "end_time": "2024-11-22T01:59:45.354334Z",
     "start_time": "2024-11-22T01:59:44.237687Z"
    }
   },
   "source": [
    "base_models = [\n",
    "    ('lr', lr_search.best_estimator_),\n",
    "    ('lasso', lasso_search.best_estimator_),\n",
    "    ('ridge', ridge_search.best_estimator_),\n",
    "    ('dt', dt_search.best_estimator_),\n",
    "    ('sgd', sgd_search.best_estimator_)\n",
    "]\n",
    "\n",
    "meta_model = rf_search.best_estimator_\n",
    "\n",
    "stacking_model = StackingRegressor(estimators=base_models, final_estimator=meta_model, n_jobs=-1)\n",
    "\n",
    "stacking_model.fit(X_train, y_train)\n",
    "\n",
    "y_pred_stacking = stacking_model.predict(X_test)\n",
    "\n",
    "rmse_stacking = mean_squared_error(y_test, y_pred_stacking, squared=False)\n",
    "r2_stacking = r2_score(y_test, y_pred_stacking)\n",
    "\n",
    "mae_stacking = mean_absolute_error(y_test, y_pred_stacking)\n",
    "mape_stacking = mean_absolute_percentage_error(y_test, y_pred_stacking) * 100\n",
    "\n",
    "rmse_scores['Stacked'] = rmse_stacking\n",
    "r2_scores['Stacked'] = r2_stacking\n",
    "mae_scores['Stacked'] = mae_stacking\n",
    "mape_scores['Stacked'] = mape_stacking\n",
    "\n",
    "print(f\"Stacking RMSE: {rmse_stacking:.2f}\")\n",
    "print(f\"Stacking R^2 Score: {r2_stacking:.2f}\")\n",
    "print(f\"Stacking MAE Score: {mae_stacking:.2f}\")\n",
    "print(f\"Stacking MAPE Score: {mape_stacking:.2f}%\")"
   ],
   "outputs": [
    {
     "name": "stdout",
     "output_type": "stream",
     "text": [
      "Stacking RMSE: 732.69\n",
      "Stacking R^2 Score: 0.79\n",
      "Stacking MAE Score: 567.78\n",
      "Stacking MAPE Score: 13.61%\n"
     ]
    }
   ],
   "execution_count": 104
  },
  {
   "cell_type": "markdown",
   "id": "e73a87acde01e3e3",
   "metadata": {},
   "source": [
    "The Stacking model performs very well with an R² score of 0.79, meaning it explains about 79% of the variance in the data. \n",
    "\n",
    "The RMSE of 732.7 suggests that the model is making relatively accurate predictions with lower error compared to the other models."
   ]
  },
  {
   "cell_type": "markdown",
   "id": "93293a9d17ad03b3",
   "metadata": {},
   "source": [
    "## MULTIPLE MODEL COMPARISONS\n",
    "\n",
    "Let us store all model evaluation metrics for all models in a dictionary for ease of access."
   ]
  },
  {
   "cell_type": "code",
   "id": "6dadeb02fae18089",
   "metadata": {
    "ExecuteTime": {
     "end_time": "2024-11-22T01:59:45.421725Z",
     "start_time": "2024-11-22T01:59:45.416148Z"
    }
   },
   "source": [
    "sorted_rmse_scores = dict(sorted(rmse_scores.items(), key=lambda item: item[1], reverse=True))\n",
    "sorted_r2_scores = dict(sorted(r2_scores.items(), key=lambda item: item[1]))\n",
    "sorted_mae_scores = dict(sorted(mae_scores.items(), key=lambda item: item[1], reverse=True))\n",
    "sorted_mape_scores = dict(sorted(mape_scores.items(), key=lambda item: item[1], reverse=True))"
   ],
   "outputs": [],
   "execution_count": 105
  },
  {
   "cell_type": "markdown",
   "id": "cac108daed64944a",
   "metadata": {},
   "source": [
    "### RMSE Scores"
   ]
  },
  {
   "cell_type": "code",
   "id": "a0185e96172be2ad",
   "metadata": {
    "ExecuteTime": {
     "end_time": "2024-11-22T01:59:45.685274Z",
     "start_time": "2024-11-22T01:59:45.488808Z"
    }
   },
   "source": [
    "plt.figure(figsize=(16, 8))\n",
    "\n",
    "plt.barh(list(sorted_rmse_scores.keys()), list(sorted_rmse_scores.values()), color='#556d96')\n",
    "\n",
    "plt.title('RMSE for Each Model', fontsize=18, fontweight='bold')\n",
    "plt.xlabel('RMSE Score', fontsize=16)\n",
    "plt.ylabel('Model', fontsize=16)\n",
    "\n",
    "plt.xticks(fontsize=14)\n",
    "plt.yticks(fontsize=14)\n",
    "\n",
    "for model, rmse in sorted_rmse_scores.items():\n",
    "    plt.text(rmse + 0.001, model, f\"{rmse:.2f}\", va='center', fontsize=14, fontweight='bold')\n",
    "\n",
    "plt.tight_layout()\n",
    "plt.show()"
   ],
   "outputs": [
    {
     "data": {
      "text/plain": [
       "<Figure size 1600x800 with 1 Axes>"
      ],
      "image/png": "[encoded data removed]"
     },
     "metadata": {},
     "output_type": "display_data"
    }
   ],
   "execution_count": 106
  },
  {
   "cell_type": "markdown",
   "id": "ae174f1137870846",
   "metadata": {},
   "source": [
    "The Stacked Model is the best-performing model, with the lowest RMSE of 732.69, making it the most reliable choice for predicting Propylene Glycol (PG) yield. For simpler alternatives, Bayesian Ridge Regression or Ridge Regression are strong candidates with relatively low RMSE and interpretable implementations.\n",
    "\n",
    "Models like KNN, XGBoost, and Decision Tree should be avoided due to their high RMSE values, indicating poor prediction accuracy and reliability."
   ]
  },
  {
   "cell_type": "markdown",
   "id": "1b7be6e789032b7d",
   "metadata": {},
   "source": [
    "### R-Square Scores"
   ]
  },
  {
   "cell_type": "code",
   "id": "ecc31df8106e68",
   "metadata": {
    "ExecuteTime": {
     "end_time": "2024-11-22T01:59:46.015072Z",
     "start_time": "2024-11-22T01:59:45.813150Z"
    }
   },
   "source": [
    "plt.figure(figsize=(16, 8))\n",
    "\n",
    "plt.barh(list(sorted_r2_scores.keys()), list(sorted_r2_scores.values()), color='#556d96')\n",
    "\n",
    "plt.title('R² for Each Model', fontsize=18, fontweight='bold')\n",
    "plt.xlabel('R² Score (%)', fontsize=16)\n",
    "plt.ylabel('Model', fontsize=16)\n",
    "\n",
    "plt.xticks(fontsize=14)\n",
    "plt.yticks(fontsize=14)\n",
    "\n",
    "for model, r2 in sorted_r2_scores.items():\n",
    "    plt.text(r2 + 0.001, model, f\"{r2:.2f}\", va='center', fontsize=14, fontweight='bold')\n",
    "\n",
    "plt.tight_layout()\n",
    "\n",
    "plt.show()"
   ],
   "outputs": [
    {
     "data": {
      "text/plain": [
       "<Figure size 1600x800 with 1 Axes>"
      ],
      "image/png": "[encoded data removed]"
     },
     "metadata": {},
     "output_type": "display_data"
    }
   ],
   "execution_count": 107
  },
  {
   "metadata": {},
   "cell_type": "markdown",
   "source": [
    "* Best Model: The Stacked Model achieves the highest R² score (0.79), indicating it is the most reliable for explaining the variance in Propylene Glycol (PG) yield.\n",
    "* Strong Alternatives: Ridge Regression, Bayesian Ridge, and SGD are close competitors, offering high performance with simpler implementations.\n",
    "* Avoid: Decision Tree, XGBoost, and Random Forest, as they explain significantly less variance and are less reliable for this dataset."
   ],
   "id": "de6dc475728e2089"
  },
  {
   "metadata": {},
   "cell_type": "markdown",
   "source": "### MAE Scores",
   "id": "9000fc8197642d7a"
  },
  {
   "metadata": {
    "ExecuteTime": {
     "end_time": "2024-11-22T01:59:46.226231Z",
     "start_time": "2024-11-22T01:59:46.015072Z"
    }
   },
   "cell_type": "code",
   "source": [
    "plt.figure(figsize=(16, 8))\n",
    "\n",
    "plt.barh(list(sorted_mae_scores.keys()), list(sorted_mae_scores.values()), color='#556d96')\n",
    "\n",
    "plt.title('MAE for Each Model', fontsize=18, fontweight='bold')\n",
    "plt.xlabel('MAE Score', fontsize=16)\n",
    "plt.ylabel('Model', fontsize=16)\n",
    "\n",
    "plt.xticks(fontsize=14)\n",
    "plt.yticks(fontsize=14)\n",
    "\n",
    "for model, mae in sorted_mae_scores.items():\n",
    "    plt.text(mae + 0.001, model, f\"{mae:.2f}\", va='center', fontsize=14, fontweight='bold')\n",
    "\n",
    "plt.tight_layout()\n",
    "plt.show()"
   ],
   "id": "7b2eee81ecc3927e",
   "outputs": [
    {
     "data": {
      "text/plain": [
       "<Figure size 1600x800 with 1 Axes>"
      ],
      "image/png": "[encoded data removed]"
     },
     "metadata": {},
     "output_type": "display_data"
    }
   ],
   "execution_count": 108
  },
  {
   "metadata": {},
   "cell_type": "markdown",
   "source": [
    "* Best Model: The Stacked Model, with the lowest MAE of 567.78, demonstrates the best predictive accuracy and is the most reliable for Propylene Glycol yield prediction.\n",
    "* Strong Alternatives: SGD, Ridge Regression, and Bayesian Ridge offer competitive performance and are strong contenders for simpler or more interpretable implementations.\n",
    "* Avoid: Decision Tree and Random Forest, as their high MAE values indicate poor prediction accuracy and reliability for this dataset."
   ],
   "id": "b57038e80adb18ce"
  },
  {
   "metadata": {},
   "cell_type": "markdown",
   "source": "### MAPE Scores",
   "id": "f694c3c49b877410"
  },
  {
   "metadata": {
    "ExecuteTime": {
     "end_time": "2024-11-22T01:59:46.488692Z",
     "start_time": "2024-11-22T01:59:46.290219Z"
    }
   },
   "cell_type": "code",
   "source": [
    "plt.figure(figsize=(16, 8))\n",
    "\n",
    "plt.barh(list(sorted_mape_scores.keys()), list(sorted_mape_scores.values()), color='#556d96')\n",
    "\n",
    "plt.title('MAPE for Each Model', fontsize=18, fontweight='bold')\n",
    "plt.xlabel('MAPE Score (%)', fontsize=16)\n",
    "plt.ylabel('Model', fontsize=16)\n",
    "\n",
    "plt.xticks(fontsize=14)\n",
    "plt.yticks(fontsize=14)\n",
    "\n",
    "for model, mape in sorted_mape_scores.items():\n",
    "    plt.text(mape + 0.001, model, f\"{mape:.2f}\", va='center', fontsize=14, fontweight='bold')\n",
    "\n",
    "plt.tight_layout()\n",
    "plt.show()"
   ],
   "id": "43ecfc6e9d700606",
   "outputs": [
    {
     "data": {
      "text/plain": [
       "<Figure size 1600x800 with 1 Axes>"
      ],
      "image/png": "[encoded data removed]"
     },
     "metadata": {},
     "output_type": "display_data"
    }
   ],
   "execution_count": 109
  },
  {
   "metadata": {},
   "cell_type": "markdown",
   "source": [
    "* Best Model: SGD achieves the lowest MAPE (12.32%), making it the best choice for minimizing percentage-based errors and maximizing relative prediction accuracy.\n",
    "* Strong Contenders: Ridge Regression, Bayesian Ridge, and the Stacked Model also deliver excellent performance, making them reliable alternatives with competitive MAPE scores.\n",
    "* Avoid: Decision Tree and Random Forest models, as their high MAPE scores indicate poor prediction accuracy and low reliability."
   ],
   "id": "bd8a479262376ab"
  },
  {
   "metadata": {},
   "cell_type": "markdown",
   "source": "Based on the comprehensive evaluation across performance metrics—RMSE, R², MAE, and MAPE—the **Stacked Model** consistently emerges as the best-performing model for predicting Propylene Glycol (PG) yield. It achieves the lowest RMSE (732.69) and MAE (567.78) while maintaining a high R² score (0.79) and competitive MAPE (13.61%), indicating its ability to capture complex relationships and provide accurate predictions. We will use this model for optimization modelling in finding optimal values for PG Yield production.",
   "id": "a0a5a224d5f79e36"
  },
  {
   "cell_type": "markdown",
   "id": "fc9f9a8b743c1331",
   "metadata": {},
   "source": [
    "## OPTIMIZATION MODELLING\n",
    "\n",
    "Genetic Algorithm (GA) is an optimization technique inspired by the principles of natural selection and biological evolution, making it an effective tool for solving complex, non-linear problems. By iteratively refining a population of potential solutions through selection, crossover, and mutation, GAs can efficiently explore the solution space to identify optimal outcomes. In this analysis, we will leverage the Genetic Algorithm to determine the optimal values of key parameters influencing Propylene Glycol (PG) yield. This approach allows us to navigate the complex interactions between variables and maximize PG output, ensuring a robust and efficient optimization process.\n",
    "\n",
    "The code below implements a GA-based optimization to maximize the predicted Propylene Glycol (PG) yield using a pre-trained stacking model. It defines bounds to constrain input feature values based on their minimum and maximum in the dataset (no_calc_df). The fitness_func evaluates each solution (a set of feature values) by mapping the solution to the corresponding feature names, predicting the PG yield using the stacking model, and returning the predicted yield as the fitness score. The Genetic Algorithm uses this setup to iteratively adjust the feature values within the bounds to find the optimal combination that maximizes the predicted PG yield."
   ]
  },
  {
   "cell_type": "code",
   "id": "9fd6b347a156e52e",
   "metadata": {
    "ExecuteTime": {
     "end_time": "2024-11-22T02:33:19.648706Z",
     "start_time": "2024-11-22T02:33:19.641781Z"
    }
   },
   "source": [
    "# bounds = {col: (X[col].min() - 0.1 * abs(X[col].min()), X[col].max() + 0.1 * abs(X[col].max())) for col in X.columns}\n",
    "# bounds = {col: (no_calc_df[col].min(), no_calc_df[col].max()) for col in no_calc_df.columns}\n",
    "\n",
    "# value ranges according to the client\n",
    "bounds = {\n",
    "    'Liquid Feed \\n(L/h)': (3, 4),\n",
    "    'Pure H2 Gas Flow Setpoint on PLC\\n(g/h)': (75, 300),\n",
    "    'Recycled H2 Gas Flow (g/h)': (0, 208),\n",
    "    'RX-203 Pressure (psig)': (483, 813),\n",
    "    'After HEX (°C)': (211, 282),\n",
    "    'Average Temp.\\n(°C)': (173.3, 235.8),\n",
    "    'Feed \\npH': (11.08, 11.43),\n",
    "    'Product \\npH': (3.56, 9.2),\n",
    "    'Glycerol Area': (115.89, 7401.88),\n",
    "    'Glycerol Feed Concentration (g/L)': (470.1, 888.6),\n",
    "}\n",
    "\n",
    "\n",
    "def fitness_func(_, sol, __):\n",
    "    # best_model = lasso_search.best_estimator_\n",
    "    best_model = stacking_model\n",
    "\n",
    "    feature_values = dict(zip(X.columns, sol))\n",
    "    yield_pred = best_model.predict([list(feature_values.values())])[0]\n",
    "    return yield_pred"
   ],
   "outputs": [],
   "execution_count": 161
  },
  {
   "cell_type": "code",
   "id": "ee981ab16d4a171a",
   "metadata": {
    "ExecuteTime": {
     "end_time": "2024-11-22T02:33:53.938176Z",
     "start_time": "2024-11-22T02:33:20.184710Z"
    }
   },
   "source": [
    "gene_space = [{'low': bounds[feature][0], 'high': bounds[feature][1]} for feature in X.columns]\n",
    "\n",
    "ga_instance = GA(\n",
    "    num_generations=20,\n",
    "    num_parents_mating=10,\n",
    "    fitness_func=fitness_func,\n",
    "    sol_per_pop=20,\n",
    "    num_genes=len(X.columns),\n",
    "    gene_space=gene_space,\n",
    "    mutation_probability=0.1,\n",
    "    mutation_type=\"random\",\n",
    "    crossover_type=\"single_point\",\n",
    "    random_seed=42\n",
    ")\n",
    "\n",
    "ga_instance.run()"
   ],
   "outputs": [],
   "execution_count": 162
  },
  {
   "cell_type": "code",
   "id": "48df9981e1f8b5e2",
   "metadata": {
    "ExecuteTime": {
     "end_time": "2024-11-22T02:33:54.879026Z",
     "start_time": "2024-11-22T02:33:53.942186Z"
    }
   },
   "source": [
    "solution, solution_fitness, solution_idx = ga_instance.best_solution()\n",
    "\n",
    "optimal_values = dict(zip(X.columns, solution))\n",
    "\n",
    "\n",
    "def round_value(value):\n",
    "    return round(value, -int(f'{value:e}'.split('e')[1]) + 1)\n",
    "\n",
    "\n",
    "optimal_values = {key: round_value(val) for key, val in optimal_values.items()}"
   ],
   "outputs": [],
   "execution_count": 163
  },
  {
   "cell_type": "code",
   "id": "41cd3f3a16f6f53d",
   "metadata": {
    "ExecuteTime": {
     "end_time": "2024-11-22T02:33:54.947639Z",
     "start_time": "2024-11-22T02:33:54.941605Z"
    }
   },
   "source": [
    "print(\"Optimal values:\")\n",
    "optimal_values"
   ],
   "outputs": [
    {
     "name": "stdout",
     "output_type": "stream",
     "text": [
      "Optimal values:\n"
     ]
    },
    {
     "data": {
      "text/plain": [
       "{'Liquid Feed \\n(L/h)': 4.0,\n",
       " 'Pure H2 Gas Flow Setpoint on PLC\\n(g/h)': 250.0,\n",
       " 'Recycled H2 Gas Flow (g/h)': 61.0,\n",
       " 'RX-203 Pressure (psig)': 780.0,\n",
       " 'After HEX (°C)': 250.0,\n",
       " 'Average Temp.\\n(°C)': 230.0,\n",
       " 'Feed \\npH': 11.0,\n",
       " 'Product \\npH': 4.6,\n",
       " 'Glycerol Area': 360.0,\n",
       " 'Glycerol Feed Concentration (g/L)': 610.0}"
      ]
     },
     "execution_count": 164,
     "metadata": {},
     "output_type": "execute_result"
    }
   ],
   "execution_count": 164
  },
  {
   "cell_type": "markdown",
   "id": "d7ffd5883b6e6713",
   "metadata": {},
   "source": "Above are optimal values for each of the variables mentioned according to genetic algorithm which works by randomly generating and evolving solutions (sets of feature values) through processes like selection, crossover, and mutation. Over multiple generations, it searches for the best combination of feature values that maximizes the model's predictive accuracy. The result is a set of optimized feature values that yield the most accurate predictions."
  },
  {
   "cell_type": "code",
   "id": "d53b5bf8d37fc184",
   "metadata": {
    "ExecuteTime": {
     "end_time": "2024-11-22T02:33:55.016005Z",
     "start_time": "2024-11-22T02:33:55.011438Z"
    }
   },
   "source": [
    "print(f\"Predicted maximum PG Area: {solution_fitness:.2f}\")"
   ],
   "outputs": [
    {
     "name": "stdout",
     "output_type": "stream",
     "text": [
      "Predicted maximum PG Area: 7382.51\n"
     ]
    }
   ],
   "execution_count": 165
  },
  {
   "cell_type": "markdown",
   "id": "745672700888938e",
   "metadata": {},
   "source": "This is the maximum PG area predicted by the model. We can further calculate for the PG concentration and PG yield based on this output."
  },
  {
   "cell_type": "code",
   "id": "6bf25d3eab749fe0",
   "metadata": {
    "ExecuteTime": {
     "end_time": "2024-11-22T02:33:55.085555Z",
     "start_time": "2024-11-22T02:33:55.079854Z"
    }
   },
   "source": [
    "gly_constant = 0.0758\n",
    "eg_constant = 0.0993\n",
    "pg_constant = 0.0843\n",
    "\n",
    "pg_area = solution_fitness\n",
    "pg_concentration = pg_area * pg_constant\n",
    "print('PG Concentration:', pg_concentration)\n",
    "\n",
    "gly_feed_concentration = optimal_values['Glycerol Feed Concentration (g/L)']\n",
    "\n",
    "gly_area = optimal_values['Glycerol Area']\n",
    "gly_remain_concentration = gly_area * gly_constant\n",
    "print('Glycerol Remaining Concentration:', gly_remain_concentration)\n",
    "\n",
    "pg_yield = pg_concentration / (gly_feed_concentration - gly_remain_concentration)\n",
    "print(f\"PG Yield: {pg_yield * 100:.2f}\")"
   ],
   "outputs": [
    {
     "name": "stdout",
     "output_type": "stream",
     "text": [
      "PG Concentration: 622.3457646005663\n",
      "Glycerol Remaining Concentration: 27.288000000000004\n",
      "PG Yield: 106.80\n"
     ]
    }
   ],
   "execution_count": 166
  },
  {
   "cell_type": "markdown",
   "id": "3c9672c7d31bce96",
   "metadata": {},
   "source": [
    "The PG concentration, Glycerol Remaining Concentration and PG Yield predicted is in the top percentile when compared to the data provided.\n"
   ]
  },
  {
   "metadata": {},
   "cell_type": "markdown",
   "source": [
    "## CONCLUSION\n",
    "\n",
    "Using the optimized feature values determined by the Genetic Algorithm (GA) and the predictive stacking model, the maximum PG area was predicted as 7382.51. Finally, the optimization process resulted in a PG yield of 106.8%, demonstrating the effectiveness of the GA in identifying optimal parameter combinations to maximize Propylene Glycol production. These results highlight the potential for data-driven optimization methods to enhance industrial processes and improve product yields efficiently."
   ],
   "id": "a50935e74492bf7f"
  },
  {
   "metadata": {},
   "cell_type": "code",
   "outputs": [],
   "execution_count": null,
   "source": "",
   "id": "5450a9d1e40d1fe7"
  }
 ],
 "metadata": {
  "kernelspec": {
   "display_name": "Python 3 (ipykernel)",
   "language": "python",
   "name": "python3"
  },
  "language_info": {
   "codemirror_mode": {
    "name": "ipython",
    "version": 3
   },
   "file_extension": ".py",
   "mimetype": "text/x-python",
   "name": "python",
   "nbconvert_exporter": "python",
   "pygments_lexer": "ipython3",
   "version": "3.12.6"
  }
 },
 "nbformat": 4,
 "nbformat_minor": 5
}
