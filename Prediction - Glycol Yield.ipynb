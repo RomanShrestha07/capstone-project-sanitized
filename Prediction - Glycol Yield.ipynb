{
 "cells": [
  {
   "cell_type": "markdown",
   "id": "d9cb404ee3b17bf2",
   "metadata": {},
   "source": [
    "# A Machine Learning Approach to Glycerin to Glycol Production Analysis\n",
    "========================================================================================================"
   ]
  },
  {
   "metadata": {},
   "cell_type": "markdown",
   "source": [
    "## GLYCOL YIELD PREDICTIVE ANALYSIS\n",
    "\n",
    "In this section, we will develop models to forecast glycol yield based on critical process parameters such as hydrogen, pressure, temperature, pH levels and glycerol feed. The analysis will focus on identifying patterns and relationships among these variables to provide accurate predictions of glycol yield under varying process conditions. These models will serve as a valuable tool for anticipating production outcomes and guiding decision-making in glycol production processes."
   ],
   "id": "be683eb2caee0bd5"
  },
  {
   "cell_type": "markdown",
   "id": "dafc8acdb670f05a",
   "metadata": {},
   "source": [
    "## READING THE DATA\n",
    "\n",
    "### Importing the libraries\n",
    "\n",
    "Let us start by importing the necessary libraries.\n",
    "\n"
   ]
  },
  {
   "metadata": {
    "ExecuteTime": {
     "end_time": "2024-11-22T02:02:48.551274Z",
     "start_time": "2024-11-22T02:02:48.518512Z"
    }
   },
   "cell_type": "code",
   "source": [
    "import warnings\n",
    "\n",
    "import matplotlib.pyplot as plt\n",
    "import numpy as np\n",
    "import pandas as pd\n",
    "\n",
    "from sklearn.ensemble import RandomForestRegressor, StackingRegressor\n",
    "from sklearn.linear_model import LinearRegression, Ridge, Lasso, SGDRegressor, BayesianRidge\n",
    "from sklearn.metrics import mean_squared_error, r2_score, mean_absolute_error, mean_absolute_percentage_error\n",
    "from sklearn.model_selection import RepeatedKFold, GridSearchCV, train_test_split\n",
    "from sklearn.neighbors import KNeighborsRegressor\n",
    "from sklearn.neural_network import MLPRegressor\n",
    "from sklearn.preprocessing import StandardScaler\n",
    "from sklearn.tree import DecisionTreeRegressor\n",
    "from xgboost import XGBRegressor\n",
    "\n",
    "warnings.filterwarnings('ignore')"
   ],
   "id": "15ede1a39d6f604a",
   "outputs": [],
   "execution_count": 50
  },
  {
   "metadata": {},
   "cell_type": "markdown",
   "source": [
    "### Loading the preprocessed data\n",
    "\n",
    "We will load the preprocessed data from the 'GeneralAnalysis' notebook."
   ],
   "id": "c6389ae5b932d196"
  },
  {
   "metadata": {
    "ExecuteTime": {
     "end_time": "2024-11-22T02:02:48.569520Z",
     "start_time": "2024-11-22T02:02:48.551274Z"
    }
   },
   "cell_type": "code",
   "source": [
    "numerical_df = pd.read_pickle(\"data/numerical_df.pkl\")\n",
    "no_calc_df = pd.read_pickle(\"data/no_calc_df.pkl\")"
   ],
   "id": "2fa1eb182d1af1a5",
   "outputs": [],
   "execution_count": 51
  },
  {
   "cell_type": "code",
   "id": "485821171b006804",
   "metadata": {
    "ExecuteTime": {
     "end_time": "2024-11-22T02:02:48.666907Z",
     "start_time": "2024-11-22T02:02:48.633428Z"
    }
   },
   "source": [
    "display(numerical_df.head())\n",
    "display(no_calc_df.head())"
   ],
   "outputs": [
    {
     "data": {
      "text/plain": [
       "0  Liquid Feed \\n(L/h)  Pure H2 Gas Flow Setpoint on PLC\\n(g/h)  \\\n",
       "1                  4.0                                    250.0   \n",
       "3                  4.0                                    250.0   \n",
       "5                  4.0                                    250.0   \n",
       "6                  4.0                                    250.0   \n",
       "7                  4.0                                    250.0   \n",
       "\n",
       "0  Recycled H2 Gas Flow (g/h)  Total H2 Gas Flow (g/h)  \\\n",
       "1                       150.0                      400   \n",
       "3                       150.0                      400   \n",
       "5                         0.0                      250   \n",
       "6                         0.0                      250   \n",
       "7                         0.0                      250   \n",
       "\n",
       "0  RX-203 Pressure (psig)  T2 (Top)\\n(°C)  T3 \\n(°C)  T4\\n(°C)  \\\n",
       "1                   631.0           216.0      219.0     221.0   \n",
       "3                   633.0           218.0      221.0     225.0   \n",
       "5                   606.0           210.0      213.0     214.0   \n",
       "6                   613.0           213.0      215.0     216.0   \n",
       "7                   606.0           213.0      216.0     217.0   \n",
       "\n",
       "0  T5 (Bottom)\\n(°C)  After HEX (°C)  ...  Glycerol Feed Area (HPLC)  \\\n",
       "1              223.0           227.0  ...                  7670.7621   \n",
       "3              223.0           228.0  ...                  7670.7621   \n",
       "5              214.0           239.0  ...                  7670.7621   \n",
       "6              217.0           239.0  ...                  7670.7621   \n",
       "7              218.0           239.0  ...                  7670.7621   \n",
       "\n",
       "0  Glycerol Feed Concentration (g/L)  Glycerol Remaining Concentration (g/L)  \\\n",
       "1                         581.443767                              378.229508   \n",
       "3                         581.443767                              376.341444   \n",
       "5                         581.443767                              169.054170   \n",
       "6                         581.443767                              173.375733   \n",
       "7                         581.443767                              138.497235   \n",
       "\n",
       "0  EG Concentration (g/L)  PG Concentration (g/L)  PG/EG Ratio  \\\n",
       "1               13.219690              208.391724    15.763738   \n",
       "3               16.838202              264.832496    15.728075   \n",
       "5               17.034776              323.029406    18.962938   \n",
       "6               19.375754              335.963875    17.339397   \n",
       "7               18.031212              303.250974    16.818114   \n",
       "\n",
       "0  Conversion (%)  EG Yield (%)  PG Yield (%)  Overall Glycol Yield (%)  \n",
       "1        0.349499      0.065053      1.025478                  1.090531  \n",
       "3        0.352747      0.082097      1.291221                  1.373318  \n",
       "5        0.709251      0.041307      0.783311                  0.824619  \n",
       "6        0.701819      0.047482      0.823304                  0.870785  \n",
       "7        0.761805      0.040707      0.684622                  0.725329  \n",
       "\n",
       "[5 rows x 26 columns]"
      ],
      "text/html": [
       "<div>\n",
       "<style scoped>\n",
       "    .dataframe tbody tr th:only-of-type {\n",
       "        vertical-align: middle;\n",
       "    }\n",
       "\n",
       "    .dataframe tbody tr th {\n",
       "        vertical-align: top;\n",
       "    }\n",
       "\n",
       "    .dataframe thead th {\n",
       "        text-align: right;\n",
       "    }\n",
       "</style>\n",
       "<table border=\"1\" class=\"dataframe\">\n",
       "  <thead>\n",
       "    <tr style=\"text-align: right;\">\n",
       "      <th></th>\n",
       "      <th>Liquid Feed \\n(L/h)</th>\n",
       "      <th>Pure H2 Gas Flow Setpoint on PLC\\n(g/h)</th>\n",
       "      <th>Recycled H2 Gas Flow (g/h)</th>\n",
       "      <th>Total H2 Gas Flow (g/h)</th>\n",
       "      <th>RX-203 Pressure (psig)</th>\n",
       "      <th>T2 (Top)\\n(°C)</th>\n",
       "      <th>T3 \\n(°C)</th>\n",
       "      <th>T4\\n(°C)</th>\n",
       "      <th>T5 (Bottom)\\n(°C)</th>\n",
       "      <th>After HEX (°C)</th>\n",
       "      <th>...</th>\n",
       "      <th>Glycerol Feed Area (HPLC)</th>\n",
       "      <th>Glycerol Feed Concentration (g/L)</th>\n",
       "      <th>Glycerol Remaining Concentration (g/L)</th>\n",
       "      <th>EG Concentration (g/L)</th>\n",
       "      <th>PG Concentration (g/L)</th>\n",
       "      <th>PG/EG Ratio</th>\n",
       "      <th>Conversion (%)</th>\n",
       "      <th>EG Yield (%)</th>\n",
       "      <th>PG Yield (%)</th>\n",
       "      <th>Overall Glycol Yield (%)</th>\n",
       "    </tr>\n",
       "  </thead>\n",
       "  <tbody>\n",
       "    <tr>\n",
       "      <th>1</th>\n",
       "      <td>4.0</td>\n",
       "      <td>250.0</td>\n",
       "      <td>150.0</td>\n",
       "      <td>400</td>\n",
       "      <td>631.0</td>\n",
       "      <td>216.0</td>\n",
       "      <td>219.0</td>\n",
       "      <td>221.0</td>\n",
       "      <td>223.0</td>\n",
       "      <td>227.0</td>\n",
       "      <td>...</td>\n",
       "      <td>7670.7621</td>\n",
       "      <td>581.443767</td>\n",
       "      <td>378.229508</td>\n",
       "      <td>13.219690</td>\n",
       "      <td>208.391724</td>\n",
       "      <td>15.763738</td>\n",
       "      <td>0.349499</td>\n",
       "      <td>0.065053</td>\n",
       "      <td>1.025478</td>\n",
       "      <td>1.090531</td>\n",
       "    </tr>\n",
       "    <tr>\n",
       "      <th>3</th>\n",
       "      <td>4.0</td>\n",
       "      <td>250.0</td>\n",
       "      <td>150.0</td>\n",
       "      <td>400</td>\n",
       "      <td>633.0</td>\n",
       "      <td>218.0</td>\n",
       "      <td>221.0</td>\n",
       "      <td>225.0</td>\n",
       "      <td>223.0</td>\n",
       "      <td>228.0</td>\n",
       "      <td>...</td>\n",
       "      <td>7670.7621</td>\n",
       "      <td>581.443767</td>\n",
       "      <td>376.341444</td>\n",
       "      <td>16.838202</td>\n",
       "      <td>264.832496</td>\n",
       "      <td>15.728075</td>\n",
       "      <td>0.352747</td>\n",
       "      <td>0.082097</td>\n",
       "      <td>1.291221</td>\n",
       "      <td>1.373318</td>\n",
       "    </tr>\n",
       "    <tr>\n",
       "      <th>5</th>\n",
       "      <td>4.0</td>\n",
       "      <td>250.0</td>\n",
       "      <td>0.0</td>\n",
       "      <td>250</td>\n",
       "      <td>606.0</td>\n",
       "      <td>210.0</td>\n",
       "      <td>213.0</td>\n",
       "      <td>214.0</td>\n",
       "      <td>214.0</td>\n",
       "      <td>239.0</td>\n",
       "      <td>...</td>\n",
       "      <td>7670.7621</td>\n",
       "      <td>581.443767</td>\n",
       "      <td>169.054170</td>\n",
       "      <td>17.034776</td>\n",
       "      <td>323.029406</td>\n",
       "      <td>18.962938</td>\n",
       "      <td>0.709251</td>\n",
       "      <td>0.041307</td>\n",
       "      <td>0.783311</td>\n",
       "      <td>0.824619</td>\n",
       "    </tr>\n",
       "    <tr>\n",
       "      <th>6</th>\n",
       "      <td>4.0</td>\n",
       "      <td>250.0</td>\n",
       "      <td>0.0</td>\n",
       "      <td>250</td>\n",
       "      <td>613.0</td>\n",
       "      <td>213.0</td>\n",
       "      <td>215.0</td>\n",
       "      <td>216.0</td>\n",
       "      <td>217.0</td>\n",
       "      <td>239.0</td>\n",
       "      <td>...</td>\n",
       "      <td>7670.7621</td>\n",
       "      <td>581.443767</td>\n",
       "      <td>173.375733</td>\n",
       "      <td>19.375754</td>\n",
       "      <td>335.963875</td>\n",
       "      <td>17.339397</td>\n",
       "      <td>0.701819</td>\n",
       "      <td>0.047482</td>\n",
       "      <td>0.823304</td>\n",
       "      <td>0.870785</td>\n",
       "    </tr>\n",
       "    <tr>\n",
       "      <th>7</th>\n",
       "      <td>4.0</td>\n",
       "      <td>250.0</td>\n",
       "      <td>0.0</td>\n",
       "      <td>250</td>\n",
       "      <td>606.0</td>\n",
       "      <td>213.0</td>\n",
       "      <td>216.0</td>\n",
       "      <td>217.0</td>\n",
       "      <td>218.0</td>\n",
       "      <td>239.0</td>\n",
       "      <td>...</td>\n",
       "      <td>7670.7621</td>\n",
       "      <td>581.443767</td>\n",
       "      <td>138.497235</td>\n",
       "      <td>18.031212</td>\n",
       "      <td>303.250974</td>\n",
       "      <td>16.818114</td>\n",
       "      <td>0.761805</td>\n",
       "      <td>0.040707</td>\n",
       "      <td>0.684622</td>\n",
       "      <td>0.725329</td>\n",
       "    </tr>\n",
       "  </tbody>\n",
       "</table>\n",
       "<p>5 rows × 26 columns</p>\n",
       "</div>"
      ]
     },
     "metadata": {},
     "output_type": "display_data"
    },
    {
     "data": {
      "text/plain": [
       "0  Liquid Feed \\n(L/h)  Pure H2 Gas Flow Setpoint on PLC\\n(g/h)  \\\n",
       "1                  4.0                                    250.0   \n",
       "3                  4.0                                    250.0   \n",
       "5                  4.0                                    250.0   \n",
       "6                  4.0                                    250.0   \n",
       "7                  4.0                                    250.0   \n",
       "\n",
       "0  Recycled H2 Gas Flow (g/h)  Total H2 Gas Flow (g/h)  \\\n",
       "1                       150.0                      400   \n",
       "3                       150.0                      400   \n",
       "5                         0.0                      250   \n",
       "6                         0.0                      250   \n",
       "7                         0.0                      250   \n",
       "\n",
       "0  RX-203 Pressure (psig)  T2 (Top)\\n(°C)  T3 \\n(°C)  T4\\n(°C)  \\\n",
       "1                   631.0           216.0      219.0     221.0   \n",
       "3                   633.0           218.0      221.0     225.0   \n",
       "5                   606.0           210.0      213.0     214.0   \n",
       "6                   613.0           213.0      215.0     216.0   \n",
       "7                   606.0           213.0      216.0     217.0   \n",
       "\n",
       "0  T5 (Bottom)\\n(°C)  After HEX (°C)  Average Temp.\\n(°C)  Feed \\npH  \\\n",
       "1              223.0           227.0               219.75      11.30   \n",
       "3              223.0           228.0               221.75      11.30   \n",
       "5              214.0           239.0               212.75      11.15   \n",
       "6              217.0           239.0               215.25      11.10   \n",
       "7              218.0           239.0               216.00      11.10   \n",
       "\n",
       "0  Product \\npH  Glycerol Area   EG Area    PG Area  \\\n",
       "1          3.56      4989.8352  133.1288  2472.0252   \n",
       "3          3.95      4964.9267  169.5690  3141.5480   \n",
       "5          4.43      2230.2661  171.5486  3831.9028   \n",
       "6          4.43      2287.2788  195.1234  3985.3366   \n",
       "7          4.26      1827.1403  181.5832  3597.2832   \n",
       "\n",
       "0  Glycerol Feed Area (HPLC)  Glycerol Feed Concentration (g/L)  \n",
       "1                  7670.7621                         581.443767  \n",
       "3                  7670.7621                         581.443767  \n",
       "5                  7670.7621                         581.443767  \n",
       "6                  7670.7621                         581.443767  \n",
       "7                  7670.7621                         581.443767  "
      ],
      "text/html": [
       "<div>\n",
       "<style scoped>\n",
       "    .dataframe tbody tr th:only-of-type {\n",
       "        vertical-align: middle;\n",
       "    }\n",
       "\n",
       "    .dataframe tbody tr th {\n",
       "        vertical-align: top;\n",
       "    }\n",
       "\n",
       "    .dataframe thead th {\n",
       "        text-align: right;\n",
       "    }\n",
       "</style>\n",
       "<table border=\"1\" class=\"dataframe\">\n",
       "  <thead>\n",
       "    <tr style=\"text-align: right;\">\n",
       "      <th></th>\n",
       "      <th>Liquid Feed \\n(L/h)</th>\n",
       "      <th>Pure H2 Gas Flow Setpoint on PLC\\n(g/h)</th>\n",
       "      <th>Recycled H2 Gas Flow (g/h)</th>\n",
       "      <th>Total H2 Gas Flow (g/h)</th>\n",
       "      <th>RX-203 Pressure (psig)</th>\n",
       "      <th>T2 (Top)\\n(°C)</th>\n",
       "      <th>T3 \\n(°C)</th>\n",
       "      <th>T4\\n(°C)</th>\n",
       "      <th>T5 (Bottom)\\n(°C)</th>\n",
       "      <th>After HEX (°C)</th>\n",
       "      <th>Average Temp.\\n(°C)</th>\n",
       "      <th>Feed \\npH</th>\n",
       "      <th>Product \\npH</th>\n",
       "      <th>Glycerol Area</th>\n",
       "      <th>EG Area</th>\n",
       "      <th>PG Area</th>\n",
       "      <th>Glycerol Feed Area (HPLC)</th>\n",
       "      <th>Glycerol Feed Concentration (g/L)</th>\n",
       "    </tr>\n",
       "  </thead>\n",
       "  <tbody>\n",
       "    <tr>\n",
       "      <th>1</th>\n",
       "      <td>4.0</td>\n",
       "      <td>250.0</td>\n",
       "      <td>150.0</td>\n",
       "      <td>400</td>\n",
       "      <td>631.0</td>\n",
       "      <td>216.0</td>\n",
       "      <td>219.0</td>\n",
       "      <td>221.0</td>\n",
       "      <td>223.0</td>\n",
       "      <td>227.0</td>\n",
       "      <td>219.75</td>\n",
       "      <td>11.30</td>\n",
       "      <td>3.56</td>\n",
       "      <td>4989.8352</td>\n",
       "      <td>133.1288</td>\n",
       "      <td>2472.0252</td>\n",
       "      <td>7670.7621</td>\n",
       "      <td>581.443767</td>\n",
       "    </tr>\n",
       "    <tr>\n",
       "      <th>3</th>\n",
       "      <td>4.0</td>\n",
       "      <td>250.0</td>\n",
       "      <td>150.0</td>\n",
       "      <td>400</td>\n",
       "      <td>633.0</td>\n",
       "      <td>218.0</td>\n",
       "      <td>221.0</td>\n",
       "      <td>225.0</td>\n",
       "      <td>223.0</td>\n",
       "      <td>228.0</td>\n",
       "      <td>221.75</td>\n",
       "      <td>11.30</td>\n",
       "      <td>3.95</td>\n",
       "      <td>4964.9267</td>\n",
       "      <td>169.5690</td>\n",
       "      <td>3141.5480</td>\n",
       "      <td>7670.7621</td>\n",
       "      <td>581.443767</td>\n",
       "    </tr>\n",
       "    <tr>\n",
       "      <th>5</th>\n",
       "      <td>4.0</td>\n",
       "      <td>250.0</td>\n",
       "      <td>0.0</td>\n",
       "      <td>250</td>\n",
       "      <td>606.0</td>\n",
       "      <td>210.0</td>\n",
       "      <td>213.0</td>\n",
       "      <td>214.0</td>\n",
       "      <td>214.0</td>\n",
       "      <td>239.0</td>\n",
       "      <td>212.75</td>\n",
       "      <td>11.15</td>\n",
       "      <td>4.43</td>\n",
       "      <td>2230.2661</td>\n",
       "      <td>171.5486</td>\n",
       "      <td>3831.9028</td>\n",
       "      <td>7670.7621</td>\n",
       "      <td>581.443767</td>\n",
       "    </tr>\n",
       "    <tr>\n",
       "      <th>6</th>\n",
       "      <td>4.0</td>\n",
       "      <td>250.0</td>\n",
       "      <td>0.0</td>\n",
       "      <td>250</td>\n",
       "      <td>613.0</td>\n",
       "      <td>213.0</td>\n",
       "      <td>215.0</td>\n",
       "      <td>216.0</td>\n",
       "      <td>217.0</td>\n",
       "      <td>239.0</td>\n",
       "      <td>215.25</td>\n",
       "      <td>11.10</td>\n",
       "      <td>4.43</td>\n",
       "      <td>2287.2788</td>\n",
       "      <td>195.1234</td>\n",
       "      <td>3985.3366</td>\n",
       "      <td>7670.7621</td>\n",
       "      <td>581.443767</td>\n",
       "    </tr>\n",
       "    <tr>\n",
       "      <th>7</th>\n",
       "      <td>4.0</td>\n",
       "      <td>250.0</td>\n",
       "      <td>0.0</td>\n",
       "      <td>250</td>\n",
       "      <td>606.0</td>\n",
       "      <td>213.0</td>\n",
       "      <td>216.0</td>\n",
       "      <td>217.0</td>\n",
       "      <td>218.0</td>\n",
       "      <td>239.0</td>\n",
       "      <td>216.00</td>\n",
       "      <td>11.10</td>\n",
       "      <td>4.26</td>\n",
       "      <td>1827.1403</td>\n",
       "      <td>181.5832</td>\n",
       "      <td>3597.2832</td>\n",
       "      <td>7670.7621</td>\n",
       "      <td>581.443767</td>\n",
       "    </tr>\n",
       "  </tbody>\n",
       "</table>\n",
       "</div>"
      ]
     },
     "metadata": {},
     "output_type": "display_data"
    }
   ],
   "execution_count": 52
  },
  {
   "cell_type": "code",
   "id": "39ff5f25a0cbf272",
   "metadata": {
    "ExecuteTime": {
     "end_time": "2024-11-22T02:02:48.736471Z",
     "start_time": "2024-11-22T02:02:48.732087Z"
    }
   },
   "source": [
    "print(f\"numerical_df contains {numerical_df.shape[0]} rows and {numerical_df.shape[1]} columns\")\n",
    "print(f\"no_calc_df contains {no_calc_df.shape[0]} rows and {no_calc_df.shape[1]} columns\")"
   ],
   "outputs": [
    {
     "name": "stdout",
     "output_type": "stream",
     "text": [
      "numerical_df contains 135 rows and 26 columns\n",
      "no_calc_df contains 135 rows and 18 columns\n"
     ]
    }
   ],
   "execution_count": 53
  },
  {
   "cell_type": "markdown",
   "id": "fdc24d6c80248d71",
   "metadata": {},
   "source": [
    "## PREDICTIVE MODELLING\n",
    "\n",
    "### Creating an evaluation metrics function\n",
    "\n",
    "When predicting glycol yield, it is crucial to evaluate the performance of the models using a variety of metrics to ensure robust and reliable predictions. Each metric offers unique insights into the model's accuracy and error behavior:\n",
    "* Root Mean Squared Error (RMSE) - provides an intuitive sense of the typical magnitude of errors, expressed in the same unit as the target variable. It heavily penalizes large deviations, making it particularly useful when significant errors are undesirable in glycol yield prediction.\n",
    "* Mean Absolute Error (MAE) - measures the average size of errors without disproportionately penalizing outliers, offering a straightforward and interpretable assessment of model accuracy. This is helpful when all errors, regardless of their magnitude, are equally important.\n",
    "* Mean Squared Error (MSE) - emphasizes larger errors even more than RMSE, making it suitable for identifying and addressing extreme discrepancies in predictions. It is also commonly used as a loss function during model training, aiding in optimization.\n",
    "* Mean Absolute Percentage Error (MAPE) - evaluates errors as a percentage of actual values, making it scale-independent and easy to interpret. This is particularly valuable when comparing the model's performance across different scales of glycol yield or process conditions.\n",
    "* R-Squared - explains the proportion of variance in the target variable (glycol yield) that is explained by the model's predictors. It provides a holistic view of the model's ability to capture the relationship between input features and the target."
   ]
  },
  {
   "metadata": {
    "ExecuteTime": {
     "end_time": "2024-11-22T02:02:48.925391Z",
     "start_time": "2024-11-22T02:02:48.913956Z"
    }
   },
   "cell_type": "code",
   "source": [
    "rmse_scores = {}\n",
    "r2_scores = {}\n",
    "mae_scores = {}\n",
    "mape_scores = {}\n",
    "\n",
    "\n",
    "def evaluate_model(model_name, model, model_result, X_test, y_test):\n",
    "    best_model = model.best_estimator_\n",
    "    y_pred = best_model.predict(X_test)\n",
    "\n",
    "    r2 = r2_score(y_test, y_pred)\n",
    "    mae = mean_absolute_error(y_test, y_pred)\n",
    "    mape = mean_absolute_percentage_error(y_test, y_pred) * 100\n",
    "\n",
    "    rmse_scores[model_name] = -model_result.best_score_\n",
    "    r2_scores[model_name] = r2\n",
    "    mae_scores[model_name] = mae\n",
    "    mape_scores[model_name] = mape\n",
    "\n",
    "    print(f\"Best parameters for {model_name}: {model_result.best_params_}\")\n",
    "    print(f\"{model_name} RMSE: {-model_result.best_score_:.2f}\")\n",
    "    print(f\"{model_name} R^2 Score: {r2:.2f}%\")\n",
    "    print(f\"{model_name} MAE: {mae:.2f}\")\n",
    "    print(f\"{model_name} MAPE: {mape:.2f}%\")"
   ],
   "id": "3857f6fa4796c7c4",
   "outputs": [],
   "execution_count": 54
  },
  {
   "cell_type": "markdown",
   "id": "b902275fec7936ac",
   "metadata": {},
   "source": [
    "### Selecting features\n",
    "\n",
    "We used the 'Overall Glycol Yield (%)' as target variable. Before building the model, we carefully selected the features to ensure relevance and minimize redundancy. The following adjustments were made:\n",
    "\n",
    "* Utilized the average temperature (Ave. Temp) instead of the individual temperature readings (T2, T3, T4, and T5) for simplicity and to reduce multicollinearity.\n",
    "* Removed the highly correlated feature glycerol feed area, as it strongly correlates with glycerol feed concentration.\n",
    "* Excluded total H2 gas flow since it is a derived feature, representing the sum of pure H2 gas flow and recycled H2 gas flow."
   ]
  },
  {
   "metadata": {
    "ExecuteTime": {
     "end_time": "2024-11-22T02:02:49.062584Z",
     "start_time": "2024-11-22T02:02:49.038932Z"
    }
   },
   "cell_type": "code",
   "source": [
    "uncontrolled_factors = [\n",
    "    'T2 (Top)\\n(°C)',\n",
    "    'T3 \\n(°C)',\n",
    "    'T4\\n(°C)',\n",
    "    'T5 (Bottom)\\n(°C)',\n",
    "]\n",
    "\n",
    "output_factors = [\n",
    "    'Product \\npH',\n",
    "    #'Glycerol Area',\n",
    "    'EG Area',\n",
    "    #'PG Area',\n",
    "]\n",
    "\n",
    "highly_correlated_factors = [\n",
    "    'Glycerol Feed Area (HPLC)',  # with Glycerol Feed Concentration (g/L)\n",
    "    'Total H2 Gas Flow (g/h)',\n",
    "    #'Glycerol Feed Concentration (g/L)'\n",
    "]\n",
    "\n",
    "factors_to_remove = uncontrolled_factors + output_factors + highly_correlated_factors\n",
    "\n",
    "y = numerical_df['Overall Glycol Yield (%)']\n",
    "X = no_calc_df.drop(columns=factors_to_remove, axis=1)\n",
    "\n",
    "scaler = StandardScaler()\n",
    "X_scaled = scaler.fit_transform(X)\n",
    "\n",
    "X_train, X_test, y_train, y_test = train_test_split(X_scaled, y, test_size=0.2, random_state=101)\n",
    "\n",
    "cv = RepeatedKFold(n_splits=5, n_repeats=2, random_state=101)"
   ],
   "id": "8d5203554b289f8c",
   "outputs": [],
   "execution_count": 55
  },
  {
   "metadata": {
    "ExecuteTime": {
     "end_time": "2024-11-22T02:02:49.074185Z",
     "start_time": "2024-11-22T02:02:49.062584Z"
    }
   },
   "cell_type": "code",
   "source": "X.columns.tolist()",
   "id": "96711fb89c1aed00",
   "outputs": [
    {
     "data": {
      "text/plain": [
       "['Liquid Feed \\n(L/h)',\n",
       " 'Pure H2 Gas Flow Setpoint on PLC\\n(g/h)',\n",
       " 'Recycled H2 Gas Flow (g/h)',\n",
       " 'RX-203 Pressure (psig)',\n",
       " 'After HEX (°C)',\n",
       " 'Average Temp.\\n(°C)',\n",
       " 'Feed \\npH',\n",
       " 'Glycerol Area',\n",
       " 'PG Area',\n",
       " 'Glycerol Feed Concentration (g/L)']"
      ]
     },
     "execution_count": 56,
     "metadata": {},
     "output_type": "execute_result"
    }
   ],
   "execution_count": 56
  },
  {
   "cell_type": "markdown",
   "id": "2427733fd73838ae",
   "metadata": {},
   "source": [
    "### Random Forest Analysis\n",
    "\n",
    "Best for: high-dimensional data | Pros: robust to overfitting, handles feature importance | Cons: slow to train, hard to interpret individual trees"
   ]
  },
  {
   "cell_type": "code",
   "id": "1ff343deee9a66c1",
   "metadata": {
    "ExecuteTime": {
     "end_time": "2024-11-22T02:02:49.138933Z",
     "start_time": "2024-11-22T02:02:49.133252Z"
    }
   },
   "source": [
    "rf_model = RandomForestRegressor(warm_start=True, random_state=101, n_jobs=-1)\n",
    "\n",
    "rf_param_grid = {\n",
    "    'n_estimators': [100, 500, 1000],\n",
    "    'max_depth': [None, 10, 20],\n",
    "    'min_samples_split': [2, 5, 10],\n",
    "    'max_leaf_nodes': [None, 2, 5],\n",
    "    'min_samples_leaf': [2, 5],\n",
    "}\n",
    "\n",
    "rf_search = GridSearchCV(rf_model, rf_param_grid, scoring='neg_root_mean_squared_error', n_jobs=-1, cv=cv)"
   ],
   "outputs": [],
   "execution_count": 57
  },
  {
   "cell_type": "code",
   "id": "590cd6dde92298a",
   "metadata": {
    "ExecuteTime": {
     "end_time": "2024-11-22T02:04:49.482410Z",
     "start_time": "2024-11-22T02:02:49.196979Z"
    }
   },
   "source": [
    "rf_result = rf_search.fit(X_train, y_train)\n",
    "\n",
    "evaluate_model(\"Random Forest\", rf_search, rf_result, X_test, y_test)"
   ],
   "outputs": [
    {
     "name": "stdout",
     "output_type": "stream",
     "text": [
      "Best parameters for Random Forest: {'max_depth': 20, 'max_leaf_nodes': None, 'min_samples_leaf': 2, 'min_samples_split': 2, 'n_estimators': 100}\n",
      "Random Forest RMSE: 0.09\n",
      "Random Forest R^2 Score: 0.50%\n",
      "Random Forest MAE: 0.07\n",
      "Random Forest MAPE: 8.80%\n"
     ]
    }
   ],
   "execution_count": 58
  },
  {
   "metadata": {},
   "cell_type": "markdown",
   "source": [
    "The model demonstrates moderate predictive performance. The relatively low RMSE, MAE, and MAPE indicate that the Random Forest model performs reasonably well for this dataset. However, the R² value of 0.50 highlights potential gaps in fully capturing the patterns in the data.\n",
    "\n"
   ],
   "id": "c96795a3d1f3895c"
  },
  {
   "metadata": {},
   "cell_type": "markdown",
   "source": [
    "### Linear/Ridge/Lasso Regression\n",
    "\n",
    "Linear | Best for: simple relationships, small datasets | Pros: easy to interpret, fast to train | Cons: sensitive to outliers, assumes linearity\n",
    "\n",
    "Ridge | Best for: data with multi collinearity, small datasets | Pros: handles multi collinearity, prevents overfitting\n",
    "\n",
    "Lasso | Best for: sparse models, feature selection | Pros: automatic feature selection"
   ],
   "id": "a8cb22c66362f199"
  },
  {
   "metadata": {
    "ExecuteTime": {
     "end_time": "2024-11-22T02:04:49.609053Z",
     "start_time": "2024-11-22T02:04:49.601981Z"
    }
   },
   "cell_type": "code",
   "source": [
    "lr_model = LinearRegression(n_jobs=-1)\n",
    "ridge_model = Ridge(random_state=101)\n",
    "lasso_model = Lasso(warm_start=True, random_state=101)\n",
    "\n",
    "lr_param_grid = {\n",
    "    'fit_intercept': [True, False],\n",
    "}\n",
    "\n",
    "ridge_param_grid = {\n",
    "    'alpha': [0.01, 0.1, 1.0, 10, 100],\n",
    "    'fit_intercept': [True, False],\n",
    "    'max_iter': [None, 1000, 5000, 10000],\n",
    "    'tol': [1e-3, 1e-4, 1e-5]\n",
    "}\n",
    "\n",
    "lasso_param_grid = {\n",
    "    'alpha': [0.01, 0.1, 1.0, 10, 100],\n",
    "    'fit_intercept': [True, False],\n",
    "    'precompute': [True, False],\n",
    "    'tol': [1e-3, 1e-4, 1e-5],\n",
    "    'selection': ['cyclic', 'random']\n",
    "}\n",
    "\n",
    "lr_search = GridSearchCV(lr_model, lr_param_grid, scoring='neg_root_mean_squared_error', n_jobs=-1, cv=cv)\n",
    "\n",
    "ridge_search = GridSearchCV(ridge_model, ridge_param_grid, scoring='neg_root_mean_squared_error', n_jobs=-1, cv=cv)\n",
    "\n",
    "lasso_search = GridSearchCV(lasso_model, lasso_param_grid, scoring='neg_root_mean_squared_error', n_jobs=-1, cv=cv)"
   ],
   "id": "7cf37dc9ff0eec02",
   "outputs": [],
   "execution_count": 59
  },
  {
   "cell_type": "code",
   "id": "5cb6edf4482b0f74",
   "metadata": {
    "ExecuteTime": {
     "end_time": "2024-11-22T02:04:49.654769Z",
     "start_time": "2024-11-22T02:04:49.609053Z"
    }
   },
   "source": [
    "lr_result = lr_search.fit(X_train, y_train)\n",
    "\n",
    "evaluate_model(\"Linear\", lr_search, lr_result, X_test, y_test)"
   ],
   "outputs": [
    {
     "name": "stdout",
     "output_type": "stream",
     "text": [
      "Best parameters for Linear: {'fit_intercept': True}\n",
      "Linear RMSE: 0.03\n",
      "Linear R^2 Score: 0.80%\n",
      "Linear MAE: 0.04\n",
      "Linear MAPE: 5.72%\n"
     ]
    }
   ],
   "execution_count": 60
  },
  {
   "cell_type": "code",
   "id": "b448f3fc6eaadb06",
   "metadata": {
    "ExecuteTime": {
     "end_time": "2024-11-22T02:04:50.329903Z",
     "start_time": "2024-11-22T02:04:49.793118Z"
    }
   },
   "source": [
    "ridge_result = ridge_search.fit(X_train, y_train)\n",
    "\n",
    "evaluate_model(\"Ridge\", ridge_search, ridge_result, X_test, y_test)"
   ],
   "outputs": [
    {
     "name": "stdout",
     "output_type": "stream",
     "text": [
      "Best parameters for Ridge: {'alpha': 0.01, 'fit_intercept': True, 'max_iter': None, 'tol': 0.001}\n",
      "Ridge RMSE: 0.03\n",
      "Ridge R^2 Score: 0.80%\n",
      "Ridge MAE: 0.04\n",
      "Ridge MAPE: 5.71%\n"
     ]
    }
   ],
   "execution_count": 61
  },
  {
   "cell_type": "code",
   "id": "8633cb2e102d3a2",
   "metadata": {
    "ExecuteTime": {
     "end_time": "2024-11-22T02:04:50.896504Z",
     "start_time": "2024-11-22T02:04:50.330928Z"
    }
   },
   "source": [
    "lasso_result = lasso_search.fit(X_train, y_train)\n",
    "\n",
    "evaluate_model(\"Lasso\", lasso_search, lasso_result, X_test, y_test)"
   ],
   "outputs": [
    {
     "name": "stdout",
     "output_type": "stream",
     "text": [
      "Best parameters for Lasso: {'alpha': 0.01, 'fit_intercept': True, 'precompute': False, 'selection': 'cyclic', 'tol': 1e-05}\n",
      "Lasso RMSE: 0.06\n",
      "Lasso R^2 Score: 0.60%\n",
      "Lasso MAE: 0.05\n",
      "Lasso MAPE: 6.59%\n"
     ]
    }
   ],
   "execution_count": 62
  },
  {
   "metadata": {},
   "cell_type": "markdown",
   "source": [
    "Linear Regression and Ridge Regression both perform exceptionally well, with minimal prediction error and strong explanatory power (80% of variance captured). Either model is suitable, but Ridge might offer better stability in scenarios with collinearity or noisy data.\n",
    "\n",
    "While the Lasso model has moderate performance, its RMSE (0.06) and R² (0.60) suggest that it captures less variance compared to the other two models. This could be due to the Lasso’s tendency to shrink coefficients to zero, which may have excluded some important predictors. However, its MAPE (6.5%) and MAE (0.05) still indicate reasonable performance."
   ],
   "id": "9432c01be1554710"
  },
  {
   "metadata": {},
   "cell_type": "markdown",
   "source": [
    "### SGD Regressor\n",
    "\n",
    "Best for: large datasets | Pros: efficient with large datasets | Cons: requires careful tuning, sensitive to learning rate and regularization settings"
   ],
   "id": "c6979d5b608a20e9"
  },
  {
   "metadata": {
    "ExecuteTime": {
     "end_time": "2024-11-22T02:04:51.020662Z",
     "start_time": "2024-11-22T02:04:51.014985Z"
    }
   },
   "cell_type": "code",
   "source": [
    "sgd_model = SGDRegressor(warm_start=True, random_state=101)\n",
    "\n",
    "sgd_param_grid = {\n",
    "    'loss': ['squared_error', 'huber', 'epsilon_insensitive', 'squared_epsilon_insensitive'],\n",
    "    'penalty': ['l2', 'l1', 'elasticnet'],\n",
    "    'alpha': [1e-5, 1e-4, 1e-3],\n",
    "    'learning_rate': ['constant', 'optimal', 'invscaling', 'adaptive'],\n",
    "    'eta0': [0.001, 0.01, 0.1],\n",
    "    'max_iter': [1000, 2000, 5000, 1000],\n",
    "    'tol': [1e-3, 1e-4, 1e-5],\n",
    "    'fit_intercept': [True, False]\n",
    "}\n",
    "\n",
    "sgd_search = GridSearchCV(sgd_model, sgd_param_grid, scoring='neg_root_mean_squared_error', n_jobs=-1, cv=cv)"
   ],
   "id": "74af4d7174cecf55",
   "outputs": [],
   "execution_count": 63
  },
  {
   "cell_type": "code",
   "id": "d3abb2afcf35d022",
   "metadata": {
    "ExecuteTime": {
     "end_time": "2024-11-22T02:05:21.110688Z",
     "start_time": "2024-11-22T02:04:51.020662Z"
    }
   },
   "source": [
    "sgd_result = sgd_search.fit(X_train, y_train)\n",
    "\n",
    "evaluate_model(\"SGD\", sgd_search, sgd_result, X_test, y_test)"
   ],
   "outputs": [
    {
     "name": "stdout",
     "output_type": "stream",
     "text": [
      "Best parameters for SGD: {'alpha': 1e-05, 'eta0': 0.1, 'fit_intercept': True, 'learning_rate': 'adaptive', 'loss': 'squared_error', 'max_iter': 1000, 'penalty': 'l2', 'tol': 0.001}\n",
      "SGD RMSE: 0.03\n",
      "SGD R^2 Score: 0.78%\n",
      "SGD MAE: 0.05\n",
      "SGD MAPE: 6.26%\n"
     ]
    }
   ],
   "execution_count": 64
  },
  {
   "metadata": {},
   "cell_type": "markdown",
   "source": [
    "SGD model achieves strong predictive performance with a very low error (RMSE and MAE) and captures 78% of the variance in the target variable. This demonstrates that the features used are effective in explaining the target, though there is still room for improvement to reach the 80% benchmark achieved by Linear and Ridge regression models.\n",
    "\n",
    "The SGD model’s regularization (L2 penalty) and adaptive learning rate likely contribute to its robustness and ability to avoid overfitting. However, it slightly underperforms compared to the Linear and Ridge models, which have slightly higher R² scores."
   ],
   "id": "fa2d3154ceea5632"
  },
  {
   "metadata": {},
   "cell_type": "markdown",
   "source": [
    "### Decision Tree Regressor\n",
    "\n",
    "Best for: non-linear relationships, easy to interpret models | Pros: easy to visualize, no need for feature scaling | Cons: prone to overfitting without tuning"
   ],
   "id": "bf945094e209edc5"
  },
  {
   "metadata": {
    "ExecuteTime": {
     "end_time": "2024-11-22T02:05:21.172458Z",
     "start_time": "2024-11-22T02:05:21.167029Z"
    }
   },
   "cell_type": "code",
   "source": [
    "dt_model = DecisionTreeRegressor(random_state=101)\n",
    "\n",
    "dt_param_grid = {\n",
    "    'criterion': ['squared_error', 'friedman_mse', 'absolute_error', 'poisson'],\n",
    "    'max_depth': [None, 5, 10, 20],\n",
    "    'min_samples_split': [2, 5, 10],\n",
    "    'min_samples_leaf': [1, 2, 5, 10],\n",
    "    'max_features': ['sqrt', 'log2', None],\n",
    "    'max_leaf_nodes': [None, 10, 20, 30]\n",
    "}\n",
    "\n",
    "dt_search = GridSearchCV(dt_model, dt_param_grid, scoring='neg_root_mean_squared_error', n_jobs=-1, cv=cv)"
   ],
   "id": "d26e09a226a002d2",
   "outputs": [],
   "execution_count": 65
  },
  {
   "cell_type": "code",
   "id": "e194957b6393a808",
   "metadata": {
    "ExecuteTime": {
     "end_time": "2024-11-22T02:05:26.734097Z",
     "start_time": "2024-11-22T02:05:21.227133Z"
    }
   },
   "source": [
    "dt_result = dt_search.fit(X_train, y_train)\n",
    "\n",
    "evaluate_model(\"Decision Tree\", dt_search, dt_result, X_test, y_test)"
   ],
   "outputs": [
    {
     "name": "stdout",
     "output_type": "stream",
     "text": [
      "Best parameters for Decision Tree: {'criterion': 'absolute_error', 'max_depth': None, 'max_features': None, 'max_leaf_nodes': 20, 'min_samples_leaf': 5, 'min_samples_split': 2}\n",
      "Decision Tree RMSE: 0.10\n",
      "Decision Tree R^2 Score: 0.40%\n",
      "Decision Tree MAE: 0.08\n",
      "Decision Tree MAPE: 10.35%\n"
     ]
    }
   ],
   "execution_count": 66
  },
  {
   "metadata": {},
   "cell_type": "markdown",
   "source": "Decision Tree model has moderate predictive performance. While it captures some patterns in the data (40% of variance explained), a large portion of the variability remains unaccounted for, as reflected in the low R² score. The moderate RMSE and MAE further highlight the model's limitations in making precise predictions.",
   "id": "7de39b5747a15fae"
  },
  {
   "metadata": {},
   "cell_type": "markdown",
   "source": [
    "### KNN Regressor\n",
    "\n",
    "Best for: non-linear relationships, small to medium datasets | Pros: simple, no assumptions about data distribution | Cons: sensitive to noise, memory-heavy for large datasets"
   ],
   "id": "3467ff93310013b1"
  },
  {
   "metadata": {
    "ExecuteTime": {
     "end_time": "2024-11-22T02:05:26.796486Z",
     "start_time": "2024-11-22T02:05:26.789380Z"
    }
   },
   "cell_type": "code",
   "source": [
    "knn_model = KNeighborsRegressor(n_jobs=-1)\n",
    "\n",
    "knn_param_grid = {\n",
    "    'n_neighbors': [3, 5, 7, 9, 11],\n",
    "    'weights': ['uniform', 'distance'],\n",
    "    'algorithm': ['auto', 'ball_tree', 'kd_tree', 'brute'],\n",
    "    'leaf_size': [10, 20, 30, 40, 50, 100],\n",
    "    'metric': ['euclidean', 'manhattan', 'minkowski']\n",
    "}\n",
    "\n",
    "knn_search = GridSearchCV(knn_model, knn_param_grid, scoring='neg_root_mean_squared_error', n_jobs=-1, cv=cv)"
   ],
   "id": "cad1eca236aa86e8",
   "outputs": [],
   "execution_count": 67
  },
  {
   "cell_type": "code",
   "id": "840811825ec62509",
   "metadata": {
    "ExecuteTime": {
     "end_time": "2024-11-22T02:05:35.744791Z",
     "start_time": "2024-11-22T02:05:26.850955Z"
    }
   },
   "source": [
    "knn_result = knn_search.fit(X_train, y_train)\n",
    "\n",
    "evaluate_model(\"KNN\", knn_search, knn_result, X_test, y_test)"
   ],
   "outputs": [
    {
     "name": "stdout",
     "output_type": "stream",
     "text": [
      "Best parameters for KNN: {'algorithm': 'auto', 'leaf_size': 10, 'metric': 'euclidean', 'n_neighbors': 3, 'weights': 'distance'}\n",
      "KNN RMSE: 0.10\n",
      "KNN R^2 Score: 0.56%\n",
      "KNN MAE: 0.07\n",
      "KNN MAPE: 9.77%\n"
     ]
    }
   ],
   "execution_count": 68
  },
  {
   "metadata": {},
   "cell_type": "markdown",
   "source": "The KNN model provides a moderate predictive performance. With an R² score of 0.56, it captures slightly over half of the variance in the target variable, which is reasonable but not outstanding. The error metrics (RMSE, MAE, MAPE) are moderate and suggest that the model's predictions are reasonably accurate.",
   "id": "a8b3ac135d078e4b"
  },
  {
   "metadata": {},
   "cell_type": "markdown",
   "source": [
    "### Bayesian Regression\n",
    "\n",
    "Best for: small datasets, need uncertainty estimates | Pros: provides uncertainty estimates on predictions | Cons: computationally expensive for large datasets"
   ],
   "id": "e0e207af553231c1"
  },
  {
   "metadata": {
    "ExecuteTime": {
     "end_time": "2024-11-22T02:05:35.873080Z",
     "start_time": "2024-11-22T02:05:35.866496Z"
    }
   },
   "cell_type": "code",
   "source": [
    "bayesian_model = BayesianRidge()\n",
    "\n",
    "bayesian_param_grid = {\n",
    "    'alpha_1': [1e-6, 1e-3, 1.0, 1e3],\n",
    "    'alpha_2': [1e-6, 1e-3, 1.0, 1e3],\n",
    "    'lambda_1': [1e-6, 1e-3, 1.0, 1e3],\n",
    "    'lambda_2': [1e-6, 1e-3, 1.0, 1e3],\n",
    "    'tol': [1e-3, 1e-4, 1e-5],\n",
    "    'max_iter': [None, 1000, 5000, 10000],\n",
    "    'fit_intercept': [True, False]\n",
    "}\n",
    "\n",
    "bayesian_search = GridSearchCV(bayesian_model, bayesian_param_grid, scoring='neg_root_mean_squared_error', n_jobs=-1,\n",
    "                               cv=cv)"
   ],
   "id": "e5aa5ef4fc653a0c",
   "outputs": [],
   "execution_count": 69
  },
  {
   "cell_type": "code",
   "id": "33dae907c41b782c",
   "metadata": {
    "ExecuteTime": {
     "end_time": "2024-11-22T02:05:52.290308Z",
     "start_time": "2024-11-22T02:05:35.880709Z"
    }
   },
   "source": [
    "bayesian_result = bayesian_search.fit(X_train, y_train)\n",
    "\n",
    "evaluate_model(\"Bayesian Ridge\", bayesian_search, bayesian_result, X_test, y_test)"
   ],
   "outputs": [
    {
     "name": "stdout",
     "output_type": "stream",
     "text": [
      "Best parameters for Bayesian Ridge: {'alpha_1': 1000.0, 'alpha_2': 1e-06, 'fit_intercept': True, 'lambda_1': 1e-06, 'lambda_2': 1000.0, 'max_iter': None, 'tol': 0.001}\n",
      "Bayesian Ridge RMSE: 0.03\n",
      "Bayesian Ridge R^2 Score: 0.80%\n",
      "Bayesian Ridge MAE: 0.04\n",
      "Bayesian Ridge MAPE: 5.72%\n"
     ]
    }
   ],
   "execution_count": 70
  },
  {
   "cell_type": "markdown",
   "id": "e43ea7a05c45d6cf",
   "metadata": {},
   "source": "The Bayesian Ridge model achieves strong predictive performance with very low error metrics (RMSE, MAE, MAPE) and explains 80% of the variance in the target variable. These results indicate that the model effectively captures the underlying patterns in the data and makes highly accurate predictions. It performs on par with the Linear and Ridge regression models and can be preferred when interpretability, regularization, and uncertainty estimation are important considerations."
  },
  {
   "cell_type": "markdown",
   "id": "ab2f63f369e63fa2",
   "metadata": {},
   "source": [
    "### MLP Regressor\n",
    "\n",
    "Best for: capturing complex, non-linear relationships |\n",
    "Pros: flexible, can model highly non-linear relationships; can handle large amounts of data |\n",
    "Cons: requires careful tuning of architecture and hyperparameters; prone to overfitting without proper regularization"
   ]
  },
  {
   "metadata": {
    "ExecuteTime": {
     "end_time": "2024-11-22T02:05:52.354494Z",
     "start_time": "2024-11-22T02:05:52.348855Z"
    }
   },
   "cell_type": "code",
   "source": [
    "mlp = MLPRegressor(warm_start=True, random_state=101)\n",
    "\n",
    "param_grid = {\n",
    "    'hidden_layer_sizes': [(50,), (100,), (50, 50), (100, 50)],\n",
    "    'activation': ['relu', 'tanh'],\n",
    "    'alpha': [0.0001, 0.001, 0.01],\n",
    "    'learning_rate_init': [0.001, 0.01],\n",
    "    'max_iter': [500, 1000],\n",
    "}\n",
    "\n",
    "mlp_search = GridSearchCV(mlp, param_grid, cv=cv, scoring='neg_root_mean_squared_error', n_jobs=-1)"
   ],
   "id": "8e4d8fac13b87de0",
   "outputs": [],
   "execution_count": 71
  },
  {
   "metadata": {
    "ExecuteTime": {
     "end_time": "2024-11-22T02:05:55.961785Z",
     "start_time": "2024-11-22T02:05:52.416860Z"
    }
   },
   "cell_type": "code",
   "source": [
    "mlp_result = mlp_search.fit(X_train, y_train)\n",
    "\n",
    "evaluate_model(\"MLP\", mlp_search, mlp_result, X_test, y_test)"
   ],
   "id": "87845c8542558a72",
   "outputs": [
    {
     "name": "stdout",
     "output_type": "stream",
     "text": [
      "Best parameters for MLP: {'activation': 'tanh', 'alpha': 0.01, 'hidden_layer_sizes': (100,), 'learning_rate_init': 0.01, 'max_iter': 500}\n",
      "MLP RMSE: 0.05\n",
      "MLP R^2 Score: 0.89%\n",
      "MLP MAE: 0.03\n",
      "MLP MAPE: 3.83%\n"
     ]
    }
   ],
   "execution_count": 72
  },
  {
   "cell_type": "markdown",
   "id": "d1cb3e199a9a309b",
   "metadata": {},
   "source": "The MLP model shows outstanding predictive performance with very low error metrics (RMSE, MAE, MAPE) and an R² score of 0.89. This indicates that the model effectively captures nearly all the variance in the target variable, making it one of the best-performing models in this analysis."
  },
  {
   "cell_type": "markdown",
   "id": "437fec56eb8220a9",
   "metadata": {},
   "source": [
    "### XGB Regressor\n",
    "\n",
    "Best for: structured/tabular data with complex patterns |\n",
    "Pros: highly accurate, handles missing values and outliers well, fast training with parallelization |\n",
    "Cons: sensitive to noisy data and outliers; requires careful hyperparameter tuning"
   ]
  },
  {
   "metadata": {
    "ExecuteTime": {
     "end_time": "2024-11-22T02:05:56.037001Z",
     "start_time": "2024-11-22T02:05:56.030906Z"
    }
   },
   "cell_type": "code",
   "source": [
    "xgb_model = XGBRegressor(random_state=101, n_jobs=-1)\n",
    "\n",
    "xgb_param_grid = {\n",
    "    'n_estimators': [100, 200, 300],\n",
    "    'learning_rate': [0.01, 0.05, 0.1],\n",
    "    'max_depth': [3, 5, 7],\n",
    "    'subsample': [0.7, 0.8, 1.0],\n",
    "    'colsample_bytree': [0.7, 0.8, 1.0]\n",
    "}\n",
    "\n",
    "xgb_search = GridSearchCV(xgb_model, xgb_param_grid, scoring='neg_root_mean_squared_error', n_jobs=-1, cv=cv)"
   ],
   "id": "c67532b6b3257a2c",
   "outputs": [],
   "execution_count": 73
  },
  {
   "metadata": {
    "ExecuteTime": {
     "end_time": "2024-11-22T02:06:07.197956Z",
     "start_time": "2024-11-22T02:05:56.102907Z"
    }
   },
   "cell_type": "code",
   "source": [
    "xgb_result = xgb_search.fit(X_train, y_train)\n",
    "\n",
    "evaluate_model(\"XGB\", xgb_search, xgb_result, X_test, y_test)"
   ],
   "id": "bc5b4369a0aa4186",
   "outputs": [
    {
     "name": "stdout",
     "output_type": "stream",
     "text": [
      "Best parameters for XGB: {'colsample_bytree': 0.8, 'learning_rate': 0.05, 'max_depth': 3, 'n_estimators': 300, 'subsample': 1.0}\n",
      "XGB RMSE: 0.10\n",
      "XGB R^2 Score: 0.75%\n",
      "XGB MAE: 0.05\n",
      "XGB MAPE: 6.22%\n"
     ]
    }
   ],
   "execution_count": 74
  },
  {
   "cell_type": "markdown",
   "id": "cc91de06d550e8e6",
   "metadata": {},
   "source": "XGBoost model provides strong predictive performance with low error metrics (RMSE, MAE, and MAPE) and explains 80% of the variance in the target variable. This indicates that the model captures most patterns in the data while maintaining good accuracy."
  },
  {
   "cell_type": "markdown",
   "id": "17a09550b7002bf2",
   "metadata": {},
   "source": [
    "### Stacked Regression\n",
    "\n",
    "Best for: improving predictive performance through ensemble learning |\n",
    "Pros: combines multiple models to reduce bias and variance; can leverage the strengths of different algorithms |\n",
    "Cons: complex to implement and tune; risk of overfitting if base models are not properly selected"
   ]
  },
  {
   "metadata": {
    "ExecuteTime": {
     "end_time": "2024-11-22T02:06:07.921469Z",
     "start_time": "2024-11-22T02:06:07.279949Z"
    }
   },
   "cell_type": "code",
   "source": [
    "base_models = [\n",
    "    ('lr', lr_search.best_estimator_),\n",
    "    ('lasso', lasso_search.best_estimator_),\n",
    "    ('ridge', ridge_search.best_estimator_),\n",
    "    ('sgd', sgd_search.best_estimator_),\n",
    "    ('mlp', mlp_search.best_estimator_),\n",
    "    ('rf', rf_search.best_estimator_),\n",
    "]\n",
    "\n",
    "meta_model = bayesian_search.best_estimator_\n",
    "\n",
    "stacking_model = StackingRegressor(estimators=base_models, final_estimator=meta_model, n_jobs=-1)\n",
    "\n",
    "stacking_model.fit(X_train, y_train)\n",
    "\n",
    "y_pred_stacking = stacking_model.predict(X_test)\n",
    "\n",
    "rmse_stacking = mean_squared_error(y_test, y_pred_stacking, squared=False)\n",
    "r2_stacking = r2_score(y_test, y_pred_stacking)\n",
    "mae_stacking = mean_absolute_error(y_test, y_pred_stacking)\n",
    "mape_stacking = mean_absolute_percentage_error(y_test, y_pred_stacking) * 100\n",
    "\n",
    "rmse_scores['Stacked'] = rmse_stacking\n",
    "r2_scores['Stacked'] = r2_stacking\n",
    "mae_scores['Stacked'] = mae_stacking\n",
    "mape_scores['Stacked'] = mape_stacking\n",
    "\n",
    "print(f\"Stacking RMSE: {rmse_stacking:.2f}\")\n",
    "print(f\"Stacking R^2 Score: {r2_stacking:.2f}\")\n",
    "print(f\"Stacking MAE Score: {mae_stacking:.2f}\")\n",
    "print(f\"Stacking MAPE Score: {mape_stacking:.2f}%\")"
   ],
   "id": "81cc01d3cf395a95",
   "outputs": [
    {
     "name": "stdout",
     "output_type": "stream",
     "text": [
      "Stacking RMSE: 0.08\n",
      "Stacking R^2 Score: 0.77\n",
      "Stacking MAE Score: 0.04\n",
      "Stacking MAPE Score: 5.72%\n"
     ]
    }
   ],
   "execution_count": 75
  },
  {
   "cell_type": "markdown",
   "id": "e7ea0c83aa07dd0a",
   "metadata": {},
   "source": "Stacking model performs well, achieving low error metrics (RMSE, MAE, and MAPE) while explaining 77% of the variance in the target variable. This suggests that the ensemble approach effectively combines the strengths of multiple base models to deliver accurate predictions, though it does not outperform some of the top-performing individual models like MLP or Ridge Regression."
  },
  {
   "metadata": {},
   "cell_type": "markdown",
   "source": [
    "## MULTIPLE MODEL COMPARISONS\n",
    "\n",
    "Let us store all model evaluation metrics for all models in a dictionary for ease of access."
   ],
   "id": "f231e7dd5cb62c7b"
  },
  {
   "metadata": {
    "ExecuteTime": {
     "end_time": "2024-11-22T02:06:07.991904Z",
     "start_time": "2024-11-22T02:06:07.985628Z"
    }
   },
   "cell_type": "code",
   "source": [
    "sorted_rmse_scores = dict(sorted(rmse_scores.items(), key=lambda item: item[1], reverse=True))\n",
    "sorted_r2_scores = dict(sorted(r2_scores.items(), key=lambda item: item[1]))\n",
    "sorted_mae_scores = dict(sorted(mae_scores.items(), key=lambda item: item[1], reverse=True))\n",
    "sorted_mape_scores = dict(sorted(mape_scores.items(), key=lambda item: item[1], reverse=True))"
   ],
   "id": "18ebbe7110f8e255",
   "outputs": [],
   "execution_count": 76
  },
  {
   "metadata": {},
   "cell_type": "markdown",
   "source": "### RMSE Scores",
   "id": "be5f2ff90904b7d4"
  },
  {
   "metadata": {
    "ExecuteTime": {
     "end_time": "2024-11-22T02:06:08.248703Z",
     "start_time": "2024-11-22T02:06:08.050202Z"
    }
   },
   "cell_type": "code",
   "source": [
    "plt.figure(figsize=(16, 8))\n",
    "\n",
    "plt.barh(list(sorted_rmse_scores.keys()), list(sorted_rmse_scores.values()), color='#556d96')\n",
    "\n",
    "plt.title('RMSE for Each Model', fontsize=18, fontweight='bold')\n",
    "plt.xlabel('RMSE Score', fontsize=16)\n",
    "plt.ylabel('Model', fontsize=16)\n",
    "\n",
    "plt.xticks(fontsize=14)\n",
    "plt.yticks(fontsize=14)\n",
    "\n",
    "for model, rmse in sorted_rmse_scores.items():\n",
    "    plt.text(rmse + 0.001, model, f\"{rmse:.2f}\", va='center', fontsize=14, fontweight='bold')\n",
    "\n",
    "plt.tight_layout()\n",
    "plt.show()"
   ],
   "id": "9a6d029d90454fe7",
   "outputs": [
    {
     "data": {
      "text/plain": [
       "<Figure size 1600x800 with 1 Axes>"
      ],
      "image/png": "[encoded data removed]"
     },
     "metadata": {},
     "output_type": "display_data"
    }
   ],
   "execution_count": 77
  },
  {
   "metadata": {},
   "cell_type": "markdown",
   "source": [
    "* Linear and Regularized Models: Ridge, Bayesian Ridge, and Linear Regression dominate in performance, suggesting that the dataset exhibits strong linear patterns.\n",
    "* MLP Performance: The MLP's low RMSE indicates its ability to handle non-linearities, even though it doesn’t outperform simpler linear models here.\n",
    "* Tree-Based Models: Decision Tree and Random Forest underperform, reflecting their limitations in this context, possibly due to insufficient data complexity or overfitting.\n",
    "* Stacked Model: While the stacking ensemble reduces error compared to single models like Decision Tree or Random Forest, it doesn't outperform simpler linear models, indicating limited added value."
   ],
   "id": "a1ead91f28d386f4"
  },
  {
   "metadata": {},
   "cell_type": "markdown",
   "source": "### R-Square Scores",
   "id": "28a669bbe2555d4"
  },
  {
   "metadata": {
    "ExecuteTime": {
     "end_time": "2024-11-22T02:06:08.492980Z",
     "start_time": "2024-11-22T02:06:08.303373Z"
    }
   },
   "cell_type": "code",
   "source": [
    "plt.figure(figsize=(16, 8))\n",
    "\n",
    "plt.barh(list(sorted_r2_scores.keys()), list(sorted_r2_scores.values()), color='#556d96')\n",
    "\n",
    "plt.title('R² for Each Model', fontsize=18, fontweight='bold')\n",
    "plt.xlabel('R² Score (%)', fontsize=16)\n",
    "plt.ylabel('Model', fontsize=16)\n",
    "\n",
    "plt.xticks(fontsize=14)\n",
    "plt.yticks(fontsize=14)\n",
    "\n",
    "for model, r2 in sorted_r2_scores.items():\n",
    "    plt.text(r2 + 0.001, model, f\"{r2:.2f}\", va='center', fontsize=14, fontweight='bold')\n",
    "\n",
    "plt.tight_layout()\n",
    "\n",
    "plt.show()"
   ],
   "id": "8cc26ab20b526ecc",
   "outputs": [
    {
     "data": {
      "text/plain": [
       "<Figure size 1600x800 with 1 Axes>"
      ],
      "image/png": "[encoded data removed]"
     },
     "metadata": {},
     "output_type": "display_data"
    }
   ],
   "execution_count": 78
  },
  {
   "metadata": {},
   "cell_type": "markdown",
   "source": [
    "* Best Models: The MLP model is the most effective at explaining variance, followed by Ridge, Bayesian Ridge, Linear Regression, and XGBoost, which all perform similarly.\n",
    "* Ensemble Models: The Stacked Model shows decent performance (R² = 0.77) but does not outperform simpler individual models like Ridge or Linear Regression.\n",
    "* Underperforming Models: Decision Tree, Random Forest, and KNN fail to explain sufficient variance, indicating they are less suitable for this dataset."
   ],
   "id": "85866bc38c8c9a80"
  },
  {
   "metadata": {},
   "cell_type": "markdown",
   "source": "### MAE Scores",
   "id": "7a608fdc4ba13bf"
  },
  {
   "metadata": {
    "ExecuteTime": {
     "end_time": "2024-11-22T02:06:08.750733Z",
     "start_time": "2024-11-22T02:06:08.547768Z"
    }
   },
   "cell_type": "code",
   "source": [
    "plt.figure(figsize=(16, 8))\n",
    "\n",
    "plt.barh(list(sorted_mae_scores.keys()), list(sorted_mae_scores.values()), color='#556d96')\n",
    "\n",
    "plt.title('MAE for Each Model', fontsize=18, fontweight='bold')\n",
    "plt.xlabel('MAE Score', fontsize=16)\n",
    "plt.ylabel('Model', fontsize=16)\n",
    "\n",
    "plt.xticks(fontsize=14)\n",
    "plt.yticks(fontsize=14)\n",
    "\n",
    "for model, mae in sorted_mae_scores.items():\n",
    "    plt.text(mae + 0.001, model, f\"{mae:.2f}\", va='center', fontsize=14, fontweight='bold')\n",
    "\n",
    "plt.tight_layout()\n",
    "plt.show()"
   ],
   "id": "748d66095880750",
   "outputs": [
    {
     "data": {
      "text/plain": [
       "<Figure size 1600x800 with 1 Axes>"
      ],
      "image/png": "[encoded data removed]"
     },
     "metadata": {},
     "output_type": "display_data"
    }
   ],
   "execution_count": 79
  },
  {
   "metadata": {},
   "cell_type": "markdown",
   "source": [
    "* Best Model: The MLP model has the lowest MAE, indicating it provides the most precise predictions on average.\n",
    "* Strong Contenders: Linear Regression, Bayesian Ridge, Ridge and Stacked models are all strong alternatives, with MAE values of 0.04, reflecting high accuracy and reliability.\n",
    "* Weaker Models: Decision Tree, KNN, and Random Forest exhibit significantly higher errors, making them less reliable choices for this dataset."
   ],
   "id": "87a080accc8a0e20"
  },
  {
   "metadata": {},
   "cell_type": "markdown",
   "source": "### MAPE Scores",
   "id": "a111754c47d1a7c"
  },
  {
   "metadata": {
    "ExecuteTime": {
     "end_time": "2024-11-22T02:06:09.007714Z",
     "start_time": "2024-11-22T02:06:08.808348Z"
    }
   },
   "cell_type": "code",
   "source": [
    "plt.figure(figsize=(16, 8))\n",
    "\n",
    "plt.barh(list(sorted_mape_scores.keys()), list(sorted_mape_scores.values()), color='#556d96')\n",
    "\n",
    "plt.title('MAPE for Each Model', fontsize=18, fontweight='bold')\n",
    "plt.xlabel('MAPE Score (%)', fontsize=16)\n",
    "plt.ylabel('Model', fontsize=16)\n",
    "\n",
    "plt.xticks(fontsize=14)\n",
    "plt.yticks(fontsize=14)\n",
    "\n",
    "for model, mape in sorted_mape_scores.items():\n",
    "    plt.text(mape + 0.001, model, f\"{mape:.2f}\", va='center', fontsize=14, fontweight='bold')\n",
    "\n",
    "plt.tight_layout()\n",
    "plt.show()"
   ],
   "id": "7036ed1bd5dd4255",
   "outputs": [
    {
     "data": {
      "text/plain": [
       "<Figure size 1600x800 with 1 Axes>"
      ],
      "image/png": "[encoded data removed]"
     },
     "metadata": {},
     "output_type": "display_data"
    }
   ],
   "execution_count": 80
  },
  {
   "metadata": {},
   "cell_type": "markdown",
   "source": [
    "* Best Model: The MLP model stands out with the lowest relative error (3.83%), making it the most reliable in terms of percentage-based accuracy.\n",
    "* Strong Contenders: Ridge, Bayesian Ridge, Linear Regression, and XGBoost offer excellent performance, with low MAPE values that demonstrate their ability to generalize well.\n",
    "* Weaker Models: Decision Tree, KNN, and Random Forest have much higher MAPE scores, indicating that they are less suitable for this dataset."
   ],
   "id": "6a5d1f544eaafcb7"
  },
  {
   "metadata": {},
   "cell_type": "markdown",
   "source": [
    "## CONCLUSION\n",
    "\n",
    "Based on the performance metrics across all evaluated models (RMSE, R², MAE, and MAPE), the Multi-Layer Perceptron (MLP) emerges as the best model to predict the overall glycol yield. These results highlight the MLP model's ability to handle both linear and non-linear relationships in the data effectively, making it the most accurate and reliable choice for predicting glycol yield.\n",
    "\n",
    "Ridge, Bayesian Ridge, Linear Regression, and XGBoost: These models also perform exceptionally well, with slightly higher errors but strong generalization capabilities. They are viable options when simplicity, interpretability, or computational efficiency is prioritized."
   ],
   "id": "1e71cf2749d28815"
  }
 ],
 "metadata": {
  "kernelspec": {
   "display_name": "Python 3 (ipykernel)",
   "language": "python",
   "name": "python3"
  },
  "language_info": {
   "codemirror_mode": {
    "name": "ipython",
    "version": 3
   },
   "file_extension": ".py",
   "mimetype": "text/x-python",
   "name": "python",
   "nbconvert_exporter": "python",
   "pygments_lexer": "ipython3",
   "version": "3.12.6"
  }
 },
 "nbformat": 4,
 "nbformat_minor": 5
}
